{
 "cells": [
  {
   "cell_type": "markdown",
   "metadata": {},
   "source": [
    "# Array Broadcasting\n",
    "\n",
    "## Contents\n",
    "\n",
    "- [Introduction](#Introduction)\n",
    "- [Operations with Arrays](#Operations-with-Arrays)\n",
    "- [Broadcasting](#Broadcasting)\n",
    "- [Conclusion](#Conclusion)\n",
    "\n",
    "## Introduction \n",
    "\n",
    "Many languages (such as Python with numpy and Matlab) make extensive use of optimised C or Fortran routines under the hood to perform fast mathematical operations, as such the user is encouraged to write vectorised code, so that these routines can perform faster for loops, as a big part of the CPU time is spent on calling the underlying compiled routine. More or less what happens is that the user writes vectorized code which communicates to C code that can run fast for loops and the result is then returned to the user in the form of an array (or matrix).\n",
    "\n",
    "In Julia, the interpreter will directly compile to optimised machine code using just-in-time (JIT) compilation.\n",
    "\n",
    "**NOTE of CAUTION:** measure first! JIT can be a bottleneck on its own (first-time-to-plot is a real issue)\n",
    "\n",
    "In Julia, the broadcasting notation is given by the dot `.` operator.\n",
    "\n",
    "## Operations with Arrays\n",
    "\n",
    "Julia by default deals with operations on arrays and matrices as one would do in mathematics.\n",
    "\n",
    "From a mathematical point of view, we don’t know how to compute the `sin` of an array, as the sine function is defined only on single (dimensionless) values. At the same time the `exp` can work both on single values and matrices as the exponential of a matrix has a well-defined geometrical meaning. \n",
    "\n",
    "For the same reason, you cannot multiply two arrays together, unless their size is matching correctly (i.e. one array is a row array and the other one is a column array) and in this case the multiplication of two arrays becomes the well-defined geometrical product of two arrays (which can be a scalar or a matrix, depending on the order of the multiplication).\n",
    "\n",
    "Let's start with a simple example:"
   ]
  },
  {
   "cell_type": "code",
   "execution_count": null,
   "metadata": {},
   "outputs": [],
   "source": [
    "function ErrorColCol()\n",
    "    col1 = [1,2,3] # is a column vector\n",
    "    col2 = [4,5,6] # is a column vector\n",
    "    col1*col2\n",
    "    return\n",
    "end\n",
    "\n",
    "ErrorColCol()"
   ]
  },
  {
   "cell_type": "code",
   "execution_count": null,
   "metadata": {},
   "outputs": [],
   "source": [
    "function MultFun()\n",
    "    println(\"Valid array operations:\")\n",
    "    col1 = [1,2,3] # is a column vector\n",
    "    row1 = [4 5 6] # is a row vector\n",
    "  \n",
    "    println( \"  Matrix col1 * row1 = \", col1 * row1  )\n",
    "    println( \"  Scalar row1 * col1 = \", row1 * col1  )\n",
    "  \n",
    "    # 1D vector to 3x3 2D matrix\n",
    "    mat = reshape([1,2,3,4,5,6,7,8,9],3,3)\n",
    "    println( \"  Column mat * col1 = \", mat * col1  )\n",
    "    println( \"  Row row1 * mat = \", row1 * mat  )\n",
    "    return\n",
    "end\n",
    "\n",
    "MultFun()"
   ]
  },
  {
   "cell_type": "markdown",
   "metadata": {},
   "source": [
    "The previous array operations make perfect sense from a mathematical point of view and operators behave how we would expect. Nonetheless, in programming it is often useful to write operations which work on an element by element basis, and for this reason broadcasting comes to our help.\n",
    "\n",
    "## Broadcasting\n",
    "\n",
    "In Julia, with broadcasting we indicate the action of mapping a function or an operation (which are the same in Julia) over an array or a matrix \"element by element\".\n",
    "\n",
    "The broadcasting notation for operators consists of adding a dot `.` before the operator, for example `.*` .\n",
    "\n",
    "Considering the example we get:\n"
   ]
  },
  {
   "cell_type": "code",
   "execution_count": null,
   "metadata": {},
   "outputs": [],
   "source": [
    "function BroadcastFun()\n",
    "    println(\"Valid array broadcast operations:\")\n",
    "    col1 = [1,2,3] # is a column vector\n",
    "    row1 = [4 5 6] # is a row vector\n",
    "  \n",
    "    println( \"  Matrix col1 .* row1 = \", col1 .* row1  )\n",
    "    println( \"  Scalar row1 .* col1 = \", row1 .* col1 )\n",
    "  \n",
    "    # 1D vector to 3x3 2D matrix\n",
    "    mat = reshape([1,2,3,4,5,6,7,8,9],3,3)\n",
    "    println( \"  Column mat .* col1 = \", mat .* col1  )\n",
    "    println( \"  Row row1 .* mat = \", row1 .* mat  )\n",
    "    \n",
    "    println( \"  Squares col1 .* col1 = \", col1 .* col1)\n",
    "    return\n",
    "end\n",
    "\n",
    "BroadcastFun()"
   ]
  },
  {
   "cell_type": "markdown",
   "metadata": {},
   "source": [
    "Notice that when we broadcast the multiplication with a matrix and an array, the array gets multiplied “in the same direction” as it is written, in the sense that if a vector is a column it gets applied column by column etc.\n",
    "\n",
    "We can use the broadcasting notation also to map a function over an n-dimensional array. There is **no speed gain** in doing so, as it will be exactly equivalent to writing a for loop, but its conciseness may be useful sometimes. So the core idea in Julia is to write functions that take single values and use broadcasting when needed, unless the functions must explicitly work on arrays (for example to compute the mean of a series of values, perform matrix operations, vector multiplications, append to strings, etc)."
   ]
  },
  {
   "cell_type": "code",
   "execution_count": null,
   "metadata": {},
   "outputs": [],
   "source": [
    "function MoreBroadcastFun()\n",
    "    # strings\n",
    "    first_names = [\"Mark\", \"Emily\"]\n",
    "    # concatenate element by element\n",
    "    full_names = first_names .* \" Godoy\"\n",
    "    println(full_names)    \n",
    "    \n",
    "    \n",
    "    v = [1,2,3,4,5,6,7,8,9]\n",
    "    \n",
    "    # norm\n",
    "    println( \"L2 Norm = \", sum( v .^ 2) ^ (1/2) ) \n",
    "    # sines \n",
    "    println( \"Sine of v elements = \", sin.(v) )\n",
    "    \n",
    "    return\n",
    "end\n",
    "\n",
    "MoreBroadcastFun()\n"
   ]
  },
  {
   "cell_type": "markdown",
   "metadata": {},
   "source": [
    "**Tip** \n",
    "`Do not try to write vectorised code in Julia (like you would do in Python and Matlab) if you don’t need to, even if you are used to coding this way, as the code will become less readable and more prone to errors. Use instead broadcasting and for loops, when needed, to map a function over several values.`\n",
    "\n",
    "\n",
    "## Conclusion\n",
    "\n",
    "We have learned what is broadcasting and how it can be used to perform element by element operations between vectors and how to map a function over an array using the concise broadcasting syntax.\n",
    "\n",
    "We have also pointed out how Julia does not gain in performance by using “vectorised” notations (while other languages do) because the core Julia operations are implemented directly in the Julia language and thus there is no need to call compiled routines coded in other languages under the hood to offload all the heavy work.\n",
    "\n",
    "## Questions\n",
    "\n",
    "1. Does broadcasting make your code \"faster\"?\n",
    "2. Can you do array \"norms\" with broadcasting?"
   ]
  }
 ],
 "metadata": {
  "kernelspec": {
   "display_name": "Julia 1.6.1",
   "language": "julia",
   "name": "julia-1.6"
  },
  "language_info": {
   "file_extension": ".jl",
   "mimetype": "application/julia",
   "name": "julia",
   "version": "1.6.1"
  }
 },
 "nbformat": 4,
 "nbformat_minor": 4
}
