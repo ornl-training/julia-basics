{
 "cells": [
  {
   "cell_type": "markdown",
   "metadata": {},
   "source": [
    "# Parallel Computing\n",
    "\n",
    "In this lesson we will deal with parallel computing, which is a type of computation in which many calculations or the execution of processes are carried out simultaneously on different CPU cores. We will show the differences between multi-threading and multi-processing and we will learn how those techniques are implemented in Julia.\n",
    "\n",
    "For this lesson you will need Julia version 1.3 or above.\n",
    "\n",
    "## Contents\n",
    "\n",
    "- [Intro](#Intro)\n",
    "- [Data based](#Data-based)\n",
    "- [Task based](#Task-based)\n",
    "\n",
    "\n",
    "## Intro \n",
    "In order to use multi-threading we need to start Julia with a number of threads equal to the number of you CPU cores. If you are using the Juno IDE it will automatically start Julia with the appropriate number of threads. If you are working from the REPL, you need to manually start Julia from the command line.\n",
    "\n",
    "```\n",
    "$ export JULIA_NUM_THREADS=4\n",
    "$ julia\n",
    "```"
   ]
  },
  {
   "cell_type": "code",
   "execution_count": null,
   "metadata": {},
   "outputs": [],
   "source": [
    "# Check number of threads\n",
    "Threads.nthreads()"
   ]
  },
  {
   "cell_type": "markdown",
   "metadata": {},
   "source": [
    "## Data based\n",
    "\n",
    "The first step to know if it's worth applying parallel processing is to measure any potential benefit by timing bottlenecks in code. \n",
    "It is possible to measure the execution time of a function using the macro `@time` from the `BenchmarkTools` package."
   ]
  },
  {
   "cell_type": "code",
   "execution_count": null,
   "metadata": {},
   "outputs": [],
   "source": []
  },
  {
   "cell_type": "code",
   "execution_count": null,
   "metadata": {},
   "outputs": [],
   "source": [
    "using SpecialFunctions\n",
    "using BenchmarkTools\n",
    "\n",
    "function besselFun()\n",
    "    x = range(0,1000, length=10000000)\n",
    "    results = zeros(length(x))\n",
    "    results .= besselj1.(x)\n",
    "    return\n",
    "end\n",
    "\n",
    "@time besselFun()"
   ]
  },
  {
   "cell_type": "markdown",
   "metadata": {},
   "source": [
    "Rewrite this funciton in a loop"
   ]
  },
  {
   "cell_type": "code",
   "execution_count": null,
   "metadata": {},
   "outputs": [],
   "source": [
    "function besselFun()\n",
    "    x = range(0,1000, length=10000000)\n",
    "    results = zeros(length(x))\n",
    "    for i in 1:length(x)\n",
    "       results[i] = besselj1(x[i])\n",
    "    end\n",
    "    return\n",
    "end\n",
    "\n",
    "@time besselFun()"
   ]
  },
  {
   "cell_type": "markdown",
   "metadata": {},
   "source": [
    "In that loop every iteration is independent from the next one: this hints the possibility to make the code parallel. To achieve parallelization, we import the Threads module and call the `@threads` macro."
   ]
  },
  {
   "cell_type": "code",
   "execution_count": null,
   "metadata": {},
   "outputs": [],
   "source": [
    "function besselFun()\n",
    "    x = range(0,1000, length=10000000)\n",
    "    results = zeros(length(x))\n",
    "Threads.@threads for i in 1:length(x)\n",
    "            results[i] = besselj1(x[i])\n",
    "         end\n",
    "    return\n",
    "end\n",
    "\n",
    "@time besselFun()"
   ]
  },
  {
   "cell_type": "markdown",
   "metadata": {},
   "source": [
    "## Task based\n",
    "\n",
    "Use the `@spawn` macro and the fetch function\n"
   ]
  },
  {
   "cell_type": "code",
   "execution_count": 28,
   "metadata": {},
   "outputs": [
    {
     "name": "stdout",
     "output_type": "stream",
     "text": [
      "Time for @spawn/fetch code:\n",
      "Result: 16.0\n",
      "  0.093225 seconds (429.69 k allocations: 23.807 MiB, 76.91% compilation time)\n",
      "Time for serial code:\n",
      "Result: 16.0\n",
      "  0.044360 seconds (72 allocations: 2.047 KiB)\n"
     ]
    }
   ],
   "source": [
    "import Base.Threads.@spawn\n",
    "using BenchmarkTools\n",
    "\n",
    "function slow_func(x)\n",
    "    sleep(0.01) #sleep for 5ms\n",
    "    return x\n",
    "end\n",
    "\n",
    "println(\"Time for @spawn/fetch code:\")\n",
    "@time let\n",
    "    a = @spawn slow_func(2)\n",
    "    b = @spawn slow_func(4)\n",
    "    c = @spawn slow_func(42)\n",
    "    d = @spawn slow_func(12)\n",
    "    res = fetch(a) .+ fetch(b) .* fetch(c) ./ fetch(d)\n",
    "    println(\"Result: \", res)\n",
    "end\n",
    "\n",
    "println(\"Time for serial code:\")\n",
    "@time let\n",
    "    a = slow_func(2)\n",
    "    b = slow_func(4)\n",
    "    c = slow_func(42)\n",
    "    d = slow_func(12)\n",
    "    res = a .+ b .* c ./ d\n",
    "    println(\"Result: \", res)\n",
    "end"
   ]
  },
  {
   "cell_type": "code",
   "execution_count": null,
   "metadata": {},
   "outputs": [],
   "source": []
  },
  {
   "cell_type": "code",
   "execution_count": null,
   "metadata": {},
   "outputs": [],
   "source": []
  }
 ],
 "metadata": {
  "kernelspec": {
   "display_name": "Julia 1.6.1",
   "language": "julia",
   "name": "julia-1.6"
  },
  "language_info": {
   "file_extension": ".jl",
   "mimetype": "application/julia",
   "name": "julia",
   "version": "1.6.1"
  }
 },
 "nbformat": 4,
 "nbformat_minor": 4
}
