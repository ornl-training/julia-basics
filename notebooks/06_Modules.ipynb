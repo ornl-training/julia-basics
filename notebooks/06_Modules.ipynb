{
 "cells": [
  {
   "cell_type": "markdown",
   "id": "dea3aa45",
   "metadata": {},
   "source": [
    "# Modules\n",
    "\n",
    "In this lesson we will learn what modules are and how they can be used for code reusability.\n",
    "\n",
    "## Contents\n",
    "\n",
    "- [Working with Modules](#Working-with-Modules)\n",
    "- [User defined Modules](#User-defined-Modules)\n",
    "\n",
    "\n",
    "## Working with Modules\n",
    "\n",
    "Libraries in Julia come in the form of module which can be loaded via the using notation. A module is a separate environment with its sets of variables and functions, some of which are exported in the calling scope, which means that you can call exported functions by simply typing their name as if they where defined in the same scope, while others are accessible only through the `ModuleName.functionName` notation.\n",
    "\n",
    "In order to use an existing official module, we need first to install it and then import it, you can do it using the Julia `Pkg` unified package manager.\n",
    "\n",
    "```\n",
    "using Pkg\n",
    "Pkg.add(\"ModuleName\")\n",
    "```\n",
    "\n",
    "Now we are able to access its avaiable functions. There is 2 ways to do this:\n",
    "- `using Module` # usage: foo(x)\n",
    "- `import Module` # usage: Module.foo(x)\n",
    "\n",
    "`using` makes all the functions and variables from that module accesible. In general, this is very common but it's discourage in large projects using several modules due to name conflict. `import` requires the use of the module name as a namespace, while this is more verbose. For simple and quick tasks use `using`, for more complex workflows use `import`.\n",
    "\n",
    "For this example we will use the Special Functions package, which contains functions such as the gamma function and the Bessel functions.\n",
    "\n",
    "```\n",
    "using Pkg\n",
    "Pkg.add(\"SpecialFunctions\")\n",
    "```"
   ]
  },
  {
   "cell_type": "code",
   "execution_count": null,
   "id": "e506802e",
   "metadata": {},
   "outputs": [],
   "source": [
    "using SpecialFunctions\n"
   ]
  }
 ],
 "metadata": {
  "kernelspec": {
   "display_name": "Julia 1.4.2",
   "language": "julia",
   "name": "julia-1.4"
  },
  "language_info": {
   "file_extension": ".jl",
   "mimetype": "application/julia",
   "name": "julia",
   "version": "1.4.2"
  }
 },
 "nbformat": 4,
 "nbformat_minor": 5
}
