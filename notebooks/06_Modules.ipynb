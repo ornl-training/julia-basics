{
 "cells": [
  {
   "cell_type": "markdown",
   "metadata": {},
   "source": [
    "# Modules\n",
    "\n",
    "In this lesson we will learn what modules are and how they can be used for code reusability.\n",
    "\n",
    "## Contents\n",
    "\n",
    "- [Working with Modules](#Working-with-Modules)\n",
    "- [Conflicts](#Conflicts)\n",
    "- [User defined Modules](#User-defined-Modules)\n",
    "\n",
    "\n",
    "## Working with Modules\n",
    "\n",
    "Libraries in Julia come in the form of module which can be loaded via the using notation. A module is a separate environment with its sets of variables and functions, some of which are exported in the calling scope, which means that you can call exported functions by simply typing their name as if they where defined in the same scope, while others are accessible only through the `ModuleName.functionName` notation.\n",
    "\n",
    "In order to use an existing official module, we need first to install it and then import it, you can do it using the Julia `Pkg` unified package manager.\n",
    "\n",
    "```\n",
    "using Pkg\n",
    "Pkg.add(\"ModuleName\")\n",
    "```\n",
    "\n",
    "Now we are able to access its avaiable functions. There is 2 ways to do this:\n",
    "- `using Module` # usage: foo(x)\n",
    "- `import Module` # usage: Module.foo(x)\n",
    "\n",
    "`using` makes all the functions and variables from that module accesible. In general, this is very common but it's discourage in large projects using several modules due to name conflict. `import` requires the use of the module name as a namespace, while this is more verbose. For simple and quick tasks use `using`, for more complex workflows use `import`.\n",
    "\n",
    "For this example we will use the [SpecialFunctions.jl](https://github.com/JuliaMath/SpecialFunctions.jl) package, which contains functions such as gamma and Bessel functions.\n",
    "\n",
    "```\n",
    "using Pkg\n",
    "Pkg.add(\"SpecialFunctions\") // only needed once!\n",
    "```"
   ]
  },
  {
   "cell_type": "code",
   "execution_count": 1,
   "metadata": {},
   "outputs": [
    {
     "name": "stdout",
     "output_type": "stream",
     "text": [
      "Gamma: 2.0\n",
      "Bessel: -0.2600519549019335\n",
      "Sine integral: 1.848652527999468\n"
     ]
    },
    {
     "ename": "LoadError",
     "evalue": "UndefVarError: cosint not defined",
     "output_type": "error",
     "traceback": [
      "UndefVarError: cosint not defined",
      "",
      "Stacktrace:",
      " [1] SpecialFunctionsFun()",
      "   @ Main ./In[1]:7",
      " [2] top-level scope",
      "   @ In[1]:11",
      " [3] eval",
      "   @ ./boot.jl:360 [inlined]",
      " [4] include_string(mapexpr::typeof(REPL.softscope), mod::Module, code::String, filename::String)",
      "   @ Base ./loading.jl:1094"
     ]
    }
   ],
   "source": [
    "import SpecialFunctions\n",
    "\n",
    "function SpecialFunctionsFun()\n",
    "    println( \"Gamma: \", SpecialFunctions.gamma(3) )\n",
    "    println( \"Bessel: \", SpecialFunctions.besselj0(3) )\n",
    "    println( \"Sine integral: \", SpecialFunctions.sinint(3) )\n",
    "    println( \"Cosine integral: \", cosint(3) )\n",
    "    return\n",
    "end\n",
    "\n",
    "SpecialFunctionsFun()"
   ]
  },
  {
   "cell_type": "markdown",
   "metadata": {},
   "source": [
    "## Conflicts\n",
    "\n",
    "Sometimes it is useful to call a function taking in consideration the package where it is defined. If a function is not exported by the module (more on `export` later) or if there are several modules which export a function with the same name and same argument signature, we can specify which module the function belongs to using the following syntax:"
   ]
  },
  {
   "cell_type": "code",
   "execution_count": 2,
   "metadata": {},
   "outputs": [
    {
     "name": "stdout",
     "output_type": "stream",
     "text": [
      "I am another 'gamma' function\n",
      "My gamma(3): 9\n",
      "SpecialFunctions.gamma(3): 2.0\n"
     ]
    }
   ],
   "source": [
    "function gamma(x)\n",
    "    println(\"I am another 'gamma' function\")\n",
    "    return x^2\n",
    "end\n",
    "\n",
    "println(\"My gamma(3): \", gamma(3))\n",
    "println(\"SpecialFunctions.gamma(3): \", SpecialFunctions.gamma(3))"
   ]
  },
  {
   "cell_type": "markdown",
   "metadata": {},
   "source": [
    "As you can see, it is better to avoid the `using` notations due to conflict as it puts the function name in the global Main area. Instead use `import`, which “imports” the desired module all the same but without exporting any function in the calling scope."
   ]
  },
  {
   "cell_type": "code",
   "execution_count": 3,
   "metadata": {},
   "outputs": [
    {
     "name": "stdout",
     "output_type": "stream",
     "text": [
      "I am another 'gamma' function\n",
      "Gamma: 9\n",
      "SpecialFunctions.gamma(3): 2.0\n",
      "Bessel: -0.2600519549019335\n",
      "Sine integral: 1.848652527999468\n",
      "Cosine integral: 0.119629786008\n"
     ]
    },
    {
     "name": "stderr",
     "output_type": "stream",
     "text": [
      "WARNING: using SpecialFunctions.gamma in module Main conflicts with an existing identifier.\n"
     ]
    }
   ],
   "source": [
    "using SpecialFunctions\n",
    "\n",
    "function SpecialFunctionsFun()\n",
    "    println( \"Gamma: \", gamma(3) )\n",
    "    println( \"SpecialFunctions.gamma(3): \", SpecialFunctions.gamma(3))\n",
    "    println( \"Bessel: \", besselj0(3) )\n",
    "    println( \"Sine integral: \", sinint(3) )\n",
    "    println( \"Cosine integral: \", cosint(3) )\n",
    "    return\n",
    "end\n",
    "\n",
    "SpecialFunctionsFun()"
   ]
  },
  {
   "cell_type": "markdown",
   "metadata": {},
   "source": [
    "## User defined modules\n",
    "\n",
    "It is possible to think of modules as compact blocks of variables and functions which can be easily imported in another program. One should not think of a module as something similar to what is a class in object oriented languages such as C++ and Python, but instead as a separate global scope with its own set of variables and functions which can be called from another program. One difference with a class is that it is not possible to import a module several times to have different sets of “global variables”, while it is usual in object oriented languages to have different instances of the same class.\n",
    "\n",
    "In Julia the functions inside a module should thus depend only on their input (and eventually some global variables or other functions defined inside the module which will be shared).\n",
    "\n",
    "In the following example we will define a simple module which performs some operations and exports a function."
   ]
  },
  {
   "cell_type": "code",
   "execution_count": 4,
   "metadata": {},
   "outputs": [
    {
     "name": "stdout",
     "output_type": "stream",
     "text": [
      "func2: 51\n",
      "MyModule.func1: 9\n"
     ]
    },
    {
     "ename": "LoadError",
     "evalue": "UndefVarError: func1 not defined",
     "output_type": "error",
     "traceback": [
      "UndefVarError: func1 not defined",
      "",
      "Stacktrace:",
      " [1] top-level scope",
      "   @ In[4]:23",
      " [2] eval",
      "   @ ./boot.jl:360 [inlined]",
      " [3] include_string(mapexpr::typeof(REPL.softscope), mod::Module, code::String, filename::String)",
      "   @ Base ./loading.jl:1094"
     ]
    }
   ],
   "source": [
    "# define MyModule\n",
    "module MyModule # start a module\n",
    "export func2 # external visibility to import and using\n",
    "\n",
    "a=42\n",
    "function func1(x)\n",
    "    return x^2\n",
    "end\n",
    "\n",
    "function func2(x)\n",
    "    return func1(x) + a\n",
    "end\n",
    "\n",
    "end #end of module\n",
    "\n",
    "# consume MyModule (put it in the path automatically with .)\n",
    "using .MyModule\n",
    "\n",
    "println( \"func2: \", func2(3) ) # exposed\n",
    "\n",
    "println( \"MyModule.func1: \", MyModule.func1(3) ) # exposed\n",
    "\n",
    "println( \"func1: \", func1(3) ) # not exposed"
   ]
  }
 ],
 "metadata": {
  "kernelspec": {
   "display_name": "Julia 1.6.1",
   "language": "julia",
   "name": "julia-1.6"
  },
  "language_info": {
   "file_extension": ".jl",
   "mimetype": "application/julia",
   "name": "julia",
   "version": "1.6.1"
  }
 },
 "nbformat": 4,
 "nbformat_minor": 5
}
