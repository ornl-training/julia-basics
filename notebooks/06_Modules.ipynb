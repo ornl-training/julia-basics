{
 "cells": [
  {
   "cell_type": "markdown",
   "metadata": {},
   "source": [
    "# Modules\n",
    "\n",
    "In this lesson we will learn what modules are and how they can be used for code reusability.\n",
    "\n",
    "## Contents\n",
    "\n",
    "- [Working with Modules](#Working-with-Modules)\n",
    "- [User defined Modules](#User-defined-Modules)\n",
    "\n",
    "\n",
    "## Working with Modules\n",
    "\n",
    "Libraries in Julia come in the form of module which can be loaded via the using notation. A module is a separate environment with its sets of variables and functions, some of which are exported in the calling scope, which means that you can call exported functions by simply typing their name as if they where defined in the same scope, while others are accessible only through the `ModuleName.functionName` notation.\n",
    "\n",
    "In order to use an existing official module, we need first to install it and then import it, you can do it using the Julia `Pkg` unified package manager.\n",
    "\n",
    "```\n",
    "using Pkg\n",
    "Pkg.add(\"ModuleName\")\n",
    "```\n",
    "\n",
    "Now we are able to access its avaiable functions. There is 2 ways to do this:\n",
    "- `using Module` # usage: foo(x)\n",
    "- `import Module` # usage: Module.foo(x)\n",
    "\n",
    "`using` makes all the functions and variables from that module accesible. In general, this is very common but it's discourage in large projects using several modules due to name conflict. `import` requires the use of the module name as a namespace, while this is more verbose. For simple and quick tasks use `using`, for more complex workflows use `import`.\n",
    "\n",
    "For this example we will use the [SpecialFunctions.jl](https://github.com/JuliaMath/SpecialFunctions.jl) package, which contains functions such as gamma and Bessel functions.\n",
    "\n",
    "```\n",
    "using Pkg\n",
    "Pkg.add(\"SpecialFunctions\") // only needed once!\n",
    "```"
   ]
  },
  {
   "cell_type": "code",
   "execution_count": 3,
   "metadata": {},
   "outputs": [
    {
     "name": "stdout",
     "output_type": "stream",
     "text": [
      "Gamma: 2.0\n",
      "Bessel: -0.2600519549019335\n",
      "Sine integral: 1.848652527999468\n"
     ]
    },
    {
     "ename": "LoadError",
     "evalue": "UndefVarError: cosint not defined",
     "output_type": "error",
     "traceback": [
      "UndefVarError: cosint not defined",
      "",
      "Stacktrace:",
      " [1] SpecialFunctionsFun()",
      "   @ Main ./In[3]:7",
      " [2] top-level scope",
      "   @ In[3]:11",
      " [3] eval",
      "   @ ./boot.jl:360 [inlined]",
      " [4] include_string(mapexpr::typeof(REPL.softscope), mod::Module, code::String, filename::String)",
      "   @ Base ./loading.jl:1094"
     ]
    }
   ],
   "source": [
    "using SpecialFunctions: gamma, besselj0, sinint\n",
    "\n",
    "function SpecialFunctionsFun()\n",
    "    println( \"Gamma: \", gamma(3) )\n",
    "    println( \"Bessel: \", besselj0(3) )\n",
    "    println( \"Sine integral: \", sinint(3) )\n",
    "    println( \"Cosine integral: \", cosint(3) )\n",
    "    return\n",
    "end\n",
    "\n",
    "SpecialFunctionsFun()"
   ]
  },
  {
   "cell_type": "code",
   "execution_count": 4,
   "metadata": {},
   "outputs": [
    {
     "name": "stdout",
     "output_type": "stream",
     "text": [
      "Gamma: 2.0\n",
      "Bessel: -0.2600519549019335\n",
      "Sine integral: 1.848652527999468\n",
      "Cosine integral: 0.119629786008\n"
     ]
    }
   ],
   "source": [
    "using SpecialFunctions\n",
    "\n",
    "function SpecialFunctionsFun()\n",
    "    println( \"Gamma: \", gamma(3) )\n",
    "    println( \"Bessel: \", besselj0(3) )\n",
    "    println( \"Sine integral: \", sinint(3) )\n",
    "    println( \"Cosine integral: \", cosint(3) )\n",
    "    return\n",
    "end\n",
    "\n",
    "SpecialFunctionsFun()"
   ]
  },
  {
   "cell_type": "code",
   "execution_count": null,
   "metadata": {},
   "outputs": [],
   "source": []
  }
 ],
 "metadata": {
  "kernelspec": {
   "display_name": "Julia 1.6.1",
   "language": "julia",
   "name": "julia-1.6"
  },
  "language_info": {
   "file_extension": ".jl",
   "mimetype": "application/julia",
   "name": "julia",
   "version": "1.6.1"
  }
 },
 "nbformat": 4,
 "nbformat_minor": 5
}
