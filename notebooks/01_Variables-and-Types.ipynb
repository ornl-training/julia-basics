{
 "cells": [
  {
   "cell_type": "markdown",
   "metadata": {},
   "source": [
    "# Variables and Types\n",
    "\n",
    "The content material is taken from https://techytok.com/from-zero-to-julia/ \n",
    "\n",
    "**Table of Contents**\n",
    " - [Variables](#Variables)\n",
    " - [Types](#Types)\n",
    " - [Conclusion](#Conclusion)\n",
    "\n",
    "In this lesson you will learn what are variables and how to perform simple mathematical operations. Furthermore, we will deal with the concept of “types” and their role in Julia as `typing` (in the Python sense) and `type-safety` are parts of the language.\n",
    "\n",
    "## Variables\n",
    "\n",
    "Julia is not very different from other language for simple variables, just assign data to a variable.\n",
    "A few important things:\n",
    "\n",
    "1. Julia doesn't support member functions: **Never** `variable.function() will appear`, but always `function(variable)` just like in C or Fortran.\n",
    "2. Variables can be strings, numbers, multidimensional arrays, and higher-level constructs: dictionaries, structs.\n",
    "3. Understand default types for your system if you're not assigning types explicitly (see [Types](#Types)).\n",
    "\n",
    "In Julia, variables can be global or local scope. **Note: avoid global variables when working in shared code (even with yourself). Why? Name conflicts and types can't be assigned.**\n"
   ]
  },
  {
   "cell_type": "code",
   "execution_count": null,
   "metadata": {},
   "outputs": [],
   "source": [
    "# Use # for comments\n",
    "# I'm a global variable...don't use global variables unless it's necessary (e.g. library)\n",
    "globalVariable = \"Don't use me\"\n",
    "\n",
    "function run()\n",
    "    # local variables  \n",
    "    name = \"William F Godoy\"\n",
    "    napples = 10\n",
    "    weight = 167.5\n",
    "    kids = ( \"Mark\"=> 4, \"Emily\"=> 0) \n",
    "    years = [ 2017, 2020 ]\n",
    "  \n",
    "    # Unlike Python print doesn't add a newline \\n by default. \n",
    "    # Julia uses print and println\n",
    "    # It understands higher-level objects (e.g. dictionary)\n",
    "    println(name)\n",
    "    println(napples)\n",
    "    println(weight)\n",
    "    println(kids)\n",
    "    println(years)\n",
    "    return\n",
    "end \n",
    "\n",
    "# run your local function\n",
    "run()"
   ]
  },
  {
   "cell_type": "markdown",
   "metadata": {},
   "source": [
    "## Types\n",
    "\n",
    "In Julia every element has a type. The type system is a hierarchical structure: at the top of the tree there is the type `Any`, which means that every element belongs to it, then there are many other sub-types, for example `Number` which includes `Real` and `Complex`, and `Real` contains for example `Int` (integer) numbers and `Float64` numbers.\n",
    "\n",
    "<img src=\"../images/types.jpg\" alt=\"Drawing\" width=\"500\" height=\"700\"/>\n",
    "\n",
    "Julia enables out-of-the-box type safety as types can be explicitly assigned using the `::` notation, this is preferred for high-performance code as the compiler would actually provide checks and optimizations. In Python, the [typing module](https://docs.python.org/3/library/typing.html) was added in v3.5 for type hints.\n",
    "\n",
    "Types can be retrieved using the `typeof` function. It's good practtice to be aware of default types on your system:"
   ]
  },
  {
   "cell_type": "code",
   "execution_count": null,
   "metadata": {},
   "outputs": [],
   "source": [
    "println(\"Default types:\")\n",
    "function runWithoutTypes()\n",
    "    name = \"William F Godoy\"\n",
    "    napples = 10\n",
    "    weight = 167.5\n",
    "    kids = ( \"Mark\"=> 4, \"Emily\"=> 0)\n",
    "    years = [ 2017, 2020 ]\n",
    "  \n",
    "    println(\"name: \", name, \" type: \", typeof(name) )\n",
    "    println(\"napples: \", napples, \" type: \", typeof(napples))\n",
    "    println(\"weight: \", weight, \" type: \", typeof(weight))\n",
    "    printstyled(kids, \" type: \", typeof(kids), \"\\n\" ; color = :red)\n",
    "    println(\"years: \", years, \" type: \", typeof(years))\n",
    "    return\n",
    "end \n",
    "\n",
    "println()\n",
    "runWithoutTypes()\n",
    "\n",
    "println(\"\")\n",
    "println(\"\")\n",
    "println(\"Assigned types:\")\n",
    "function runWithTypes()\n",
    "    name::String = \"William\"\n",
    "    napples::Int32 = 10\n",
    "    weight::Float32 = 167.5\n",
    "    kids::Dict{String,Int32} = Dict( \"Mark\"=> 4, \"Emily\"=> 0 )\n",
    "    years::Array{Int32,1} = [ 2017, 2020 ]  \n",
    "    \n",
    "    println(\"name: \", name, \" type: \", typeof(name) )\n",
    "    println(\"napples: \", napples, \" type: \", typeof(napples))\n",
    "    println(\"weight: \", weight, \" type: \", typeof(weight))\n",
    "    printstyled(kids, \" type: \", typeof(kids), \"\\n\" ; color = :red)\n",
    "    println(\"years: \", years, \" type: \", typeof(years))\n",
    "    return\n",
    "end\n",
    "\n",
    "println()\n",
    "runWithTypes()"
   ]
  },
  {
   "cell_type": "markdown",
   "metadata": {},
   "source": [
    "**NOTE: the dictionary type Dict must be typed at least on the right-side of =, otherwise Julia assings a Tuple** \n",
    "\n",
    "Although it is possible to change the value of a variable inside a program (it is a variable, after all) it is good programming practice and is also critical for performance that inside a program a variable is “type stable”. This means that if we have assigned `a = 42` it is better not to assign a new value to a which cannot be converted into an Int without losing information, like a `Float64` `a = 0.42` (if we convert a `Float64` to an `Int`, the decimal part gets truncated).\n",
    "\n",
    "If we know that a variable (such as a) will have to contain values of type `Float64` it is better to initialise it with a value that is already of that type."
   ]
  },
  {
   "cell_type": "code",
   "execution_count": null,
   "metadata": {},
   "outputs": [],
   "source": [
    "function run()\n",
    "  a = 2 # if we need to operate with ints\n",
    "  println(\"Type of a: \", typeof(a))\n",
    "  b = 2.0 # if we need to operate with floats\n",
    "  println(\"Type of a: \", typeof(b))\n",
    "    \n",
    "  # a = 2.0  # not a good practice, type is Float64 by default\n",
    "  # a = convert(Float32, a) # only is required, we aware of truncation\n",
    "  println(\"Type of a: \", typeof(a))\n",
    "\n",
    "  return\n",
    "end\n",
    "\n",
    "run()"
   ]
  },
  {
   "cell_type": "markdown",
   "metadata": {},
   "source": [
    "# Conclusion\n",
    "We have learned what variables are, how to perform basic operations and we have dealt about types."
   ]
  },
  {
   "cell_type": "markdown",
   "metadata": {},
   "source": [
    "Questions:\n",
    "\n",
    "1. Does Julia support unsigned integers?\n",
    "2. Does Julia support member functions?\n",
    "3. What's the abstraction for any type?"
   ]
  }
 ],
 "metadata": {
  "kernelspec": {
   "display_name": "Julia 1.6.1",
   "language": "julia",
   "name": "julia-1.6"
  },
  "language_info": {
   "file_extension": ".jl",
   "mimetype": "application/julia",
   "name": "julia",
   "version": "1.6.1"
  }
 },
 "nbformat": 4,
 "nbformat_minor": 4
}
