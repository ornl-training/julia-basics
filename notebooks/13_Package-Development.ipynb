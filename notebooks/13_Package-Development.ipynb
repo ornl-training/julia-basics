{
 "cells": [
  {
   "cell_type": "markdown",
   "id": "910d3114-8c2b-4e70-8214-684490f5844a",
   "metadata": {},
   "source": [
    "# Package Development (Quick Start)\n",
    "\n",
    "This covers the basics of creating and developing a Julia package.\n",
    "For more details see the [`Pkg` docs](https://pkgdocs.julialang.org/v1/).\n",
    "\n",
    "*__NOTE__* : From the Julia REPL, you can enter the Pkg REPL by pressing `]` (and return to the Julia REPL with backspace). This allows typing commands instead of functions. We will show both representations for the operations covered here. The function version (actual Julia code) can be executed.\n",
    "\n",
    "*__WARNING__* : This notebook is for reference. It will work if run linearly from the beginning. But if you start over within the same session, you will have problems.\n",
    "\n",
    "It might make more sense to perform the operations in a terminal and a text editor."
   ]
  },
  {
   "cell_type": "markdown",
   "id": "9aa16c5b-0609-4d2c-8da3-0f513a6337d1",
   "metadata": {},
   "source": [
    "## Creating a package\n",
    "\n",
    "When you create a package, you also create a dependency environment specific to your project. We'll look at this step-by-step.\n"
   ]
  },
  {
   "cell_type": "markdown",
   "id": "53026cbe-a97d-4176-aa33-8daafc378877",
   "metadata": {},
   "source": [
    "### Generate a package (\"project\")\n",
    "```\n",
    "(@v1.11) pkg> generate MyPack\n",
    "```"
   ]
  },
  {
   "cell_type": "code",
   "execution_count": null,
   "id": "5bad3016-0f99-4774-ae95-59b553fdd1f4",
   "metadata": {},
   "outputs": [],
   "source": [
    "import Pkg\n",
    "Pkg.generate(\"MyPack\")"
   ]
  },
  {
   "cell_type": "markdown",
   "id": "8616962c-ee8f-4fc0-bede-43aa0fcca90f",
   "metadata": {},
   "source": [
    "### Package status\n",
    "```\n",
    "(@v1.11) pkg> status\n",
    "```"
   ]
  },
  {
   "cell_type": "code",
   "execution_count": null,
   "id": "7594fe08-88a1-42f8-acd8-6b0a616a9633",
   "metadata": {},
   "outputs": [],
   "source": [
    "Pkg.status()"
   ]
  },
  {
   "cell_type": "markdown",
   "id": "62976cef-f384-4e93-86ae-e7099bf84ea7",
   "metadata": {},
   "source": [
    "Note that we are actually in the `julia-basics` environment. By default at the terminal you would start in the default Julia (@v1.11 when this was written) environment."
   ]
  },
  {
   "cell_type": "markdown",
   "id": "cbfcba74-5cfc-41a3-9651-af2bfc2b2bce",
   "metadata": {},
   "source": [
    "### Activate package environment\n",
    "```\n",
    "(@v1.11) pkg> activate MyPack\n",
    "    Activating project at ...\n",
    "(MyPack) pkg> status\n",
    "```"
   ]
  },
  {
   "cell_type": "code",
   "execution_count": null,
   "id": "45b0484b-0c1c-45d5-9b56-0c2e3fceed4e",
   "metadata": {},
   "outputs": [],
   "source": [
    "Pkg.activate(\"MyPack\")"
   ]
  },
  {
   "cell_type": "code",
   "execution_count": null,
   "id": "2d9e53a6-765e-4d5e-afe5-93c88911a93e",
   "metadata": {},
   "outputs": [],
   "source": [
    "Pkg.status()"
   ]
  },
  {
   "cell_type": "markdown",
   "id": "933208b5-5792-4fc7-b867-5aec25efedd3",
   "metadata": {},
   "source": [
    "### Add dependencies\n",
    "\n",
    "Notice how the project environment is empty, that is, there are no packages available to use. To use packages within your environment, you must add them as dependencies.\n",
    "\n",
    "```\n",
    "(MyPack) pkg> add ArgParse YAML StaticArrays\n",
    "```"
   ]
  },
  {
   "cell_type": "code",
   "execution_count": null,
   "id": "ccc20cb0-2f59-4261-ab1a-7f55090a815f",
   "metadata": {},
   "outputs": [],
   "source": [
    "Pkg.add([\"ArgParse\", \"YAML\", \"StaticArrays\"])"
   ]
  },
  {
   "cell_type": "code",
   "execution_count": null,
   "id": "2db0fa46-788e-42fc-938d-505eda0d25ce",
   "metadata": {},
   "outputs": [],
   "source": [
    "Pkg.status()"
   ]
  },
  {
   "cell_type": "markdown",
   "id": "56d4f56b-18ae-4abb-a65d-81deeb05fa77",
   "metadata": {},
   "source": [
    "Project information is kept in the `Project.toml` file. Let's take a look."
   ]
  },
  {
   "cell_type": "code",
   "execution_count": null,
   "id": "eb983dfa-b723-4c1b-a649-bbccd9313f33",
   "metadata": {},
   "outputs": [],
   "source": [
    "function catFile(fname::AbstractString)\n",
    "    for line in readlines(fname)\n",
    "        println(line)\n",
    "    end\n",
    "end"
   ]
  },
  {
   "cell_type": "code",
   "execution_count": null,
   "id": "fd65c798-00eb-422f-a337-084db7490061",
   "metadata": {},
   "outputs": [],
   "source": [
    "catFile(\"MyPack/Project.toml\")"
   ]
  },
  {
   "cell_type": "markdown",
   "id": "2b5f5e9c-774b-4b1e-b490-688d76f30f79",
   "metadata": {},
   "source": [
    "### Write some code\n",
    "\n",
    "The top-level module associated with a project has the same name as the package. This was already generated for you in `src/MyPack.jl`:"
   ]
  },
  {
   "cell_type": "code",
   "execution_count": null,
   "id": "1172186e-e5a5-4bd4-8af0-e4d0156cc5eb",
   "metadata": {},
   "outputs": [],
   "source": [
    "catFile(\"MyPack/src/MyPack.jl\")"
   ]
  },
  {
   "cell_type": "code",
   "execution_count": null,
   "id": "16250e11-8581-4579-8d38-2823ba7881b9",
   "metadata": {},
   "outputs": [],
   "source": [
    "import MyPack\n",
    "MyPack.greet()"
   ]
  },
  {
   "cell_type": "markdown",
   "id": "017c1c5f-d97f-4f29-b4fd-89c781463675",
   "metadata": {},
   "source": [
    "Let's replace the code in `src/MyPack.jl` to do something different."
   ]
  },
  {
   "cell_type": "code",
   "execution_count": null,
   "id": "196f060d-4813-4649-963a-bce7fb6c9735",
   "metadata": {},
   "outputs": [],
   "source": [
    "write(\"MyPack/src/MyPack.jl\", \"\"\"\n",
    "    module MyPack\n",
    "\n",
    "    function modifyArg(arg::AbstractString)\n",
    "        return \"Hello \" * arg\n",
    "    end\n",
    "\n",
    "    function modifyArg(arg::Number)\n",
    "        return arg + 5\n",
    "    end\n",
    "    \n",
    "    end\n",
    "    \"\"\")"
   ]
  },
  {
   "cell_type": "code",
   "execution_count": null,
   "id": "bd5fa370-9f13-4415-8393-fab968e9001f",
   "metadata": {},
   "outputs": [],
   "source": [
    "MyPack.modifyArg(\"William\")"
   ]
  },
  {
   "cell_type": "code",
   "execution_count": null,
   "id": "aa85bb08-41b7-4630-9387-d0db24513573",
   "metadata": {},
   "outputs": [],
   "source": [
    "MyPack.modifyArg(23)"
   ]
  },
  {
   "cell_type": "markdown",
   "id": "8d8cbe90-a826-4197-bb9c-115bedd14438",
   "metadata": {},
   "source": [
    "## Testing\n",
    "\n",
    "In order for your package to be testable by the `Pkg` system, you must follow a convention. You need a `test` directory containing a `Project.toml` for your testing environment and a `runtests.jl` script as the entry point for your tests.\n",
    "\n",
    "The first two requirements can be handled from `Pkg`:\n",
    "```\n",
    "(MyPack) pkg> activate test\n",
    "(test) pkg> add Test\n",
    "```\n",
    "Here we generate the testing environment (and directory) and add the `Test` package as a testing dependency."
   ]
  },
  {
   "cell_type": "code",
   "execution_count": null,
   "id": "3a75d38b-e2ee-4cd5-ab5d-46489f9978db",
   "metadata": {},
   "outputs": [],
   "source": [
    "Pkg.activate(\"MyPack/test\")\n",
    "Pkg.add(\"Test\")"
   ]
  },
  {
   "cell_type": "code",
   "execution_count": null,
   "id": "4369ddb8-35f9-4ef0-b57e-3f5becc1cde7",
   "metadata": {},
   "outputs": [],
   "source": [
    "catFile(\"MyPack/test/Project.toml\")"
   ]
  },
  {
   "cell_type": "markdown",
   "id": "a6fccc51-b145-4210-a691-c2ddbfe9e855",
   "metadata": {},
   "source": [
    "The built-in `Test` package includes basic tools for testing. We'll write a quick test using `@testset`, `@test`, and `@test_throws`:"
   ]
  },
  {
   "cell_type": "code",
   "execution_count": null,
   "id": "1871bcd8-c095-4a0a-97c3-977f82a7450d",
   "metadata": {},
   "outputs": [],
   "source": [
    "write(\"MyPack/test/runtests.jl\", \"\"\"\n",
    "    import MyPack\n",
    "    using Test\n",
    "\n",
    "    @testset \"reportArg\" begin\n",
    "        @test MyPack.modifyArg(42) == 47\n",
    "        @test MyPack.modifyArg(\"Frank\") == \"Hello Frank\"\n",
    "    \n",
    "        @test_throws MethodError MyPack.modifyArg((1,2))\n",
    "    end\n",
    "    \"\"\")"
   ]
  },
  {
   "cell_type": "markdown",
   "id": "1c241dbb-37bd-4157-a932-4c6ae1a76837",
   "metadata": {},
   "source": [
    "Let's reactivate the project environment (since the `test` is currently active) and run the tests\n",
    "```\n",
    "(test) pkg> activate MyPack\n",
    "(MyPack) pkg> test\n",
    "```"
   ]
  },
  {
   "cell_type": "code",
   "execution_count": null,
   "id": "f31fde8f-61b1-49fc-8521-47f00cc32dd6",
   "metadata": {},
   "outputs": [],
   "source": [
    "Pkg.activate(\"MyPack\")"
   ]
  },
  {
   "cell_type": "code",
   "execution_count": null,
   "id": "2c120403-276b-4342-bfd3-3d51ee541f06",
   "metadata": {},
   "outputs": [],
   "source": [
    "Pkg.test()"
   ]
  },
  {
   "cell_type": "markdown",
   "id": "23f3151c-824b-49d2-8a22-f4ceeb33fcc5",
   "metadata": {},
   "source": [
    "`Pkg.test()` sets up a clean environment for testing (in a temp directory, separate from the project or test environment). It automatically has `MyPack` as a dependency and includes whatever is in `test/Project.toml` (in this case, just `Test`)."
   ]
  },
  {
   "cell_type": "code",
   "execution_count": null,
   "id": "5ec73596-8811-41fa-9504-c7202a7e5359",
   "metadata": {},
   "outputs": [],
   "source": []
  }
 ],
 "metadata": {
  "kernelspec": {
   "display_name": "Julia 1.11.5",
   "language": "julia",
   "name": "julia-1.11"
  },
  "language_info": {
   "file_extension": ".jl",
   "mimetype": "application/julia",
   "name": "julia",
   "version": "1.11.5"
  }
 },
 "nbformat": 4,
 "nbformat_minor": 5
}
