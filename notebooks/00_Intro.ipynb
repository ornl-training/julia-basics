{
 "cells": [
  {
   "cell_type": "markdown",
   "id": "0a2fbf14-a1f0-41b3-beed-e66f659542c1",
   "metadata": {},
   "source": [
    "# Introduction\n",
    "\n",
    "## Resources\n",
    "\n",
    "Refer frequently to the Julia [documentation](https://docs.julialang.org) where you can search for specific language and standard library features.\n",
    "\n",
    "The [manual](https://docs.julialang.org/en/v1/manual/getting-started/) is especially helpful for understanding the mental model of the language.\n",
    "\n",
    "Discover useful packages here: https://juliapackages.com/, and learn more about packaging here: https://pkgdocs.julialang.org/.\n",
    "\n",
    "Most content material in this tutorial is taken from https://techytok.com/from-zero-to-julia/."
   ]
  },
  {
   "cell_type": "markdown",
   "id": "281596ac-280c-4ce4-a5f1-295918b9a791",
   "metadata": {},
   "source": [
    "## Interesting topics not covered in these notebooks\n",
    "\n",
    "- `@code_llvm` and the like\n",
    "- metaprogramming\n",
    "- profiling tools\n",
    "- debugging\n",
    "- parallelization\n"
   ]
  },
  {
   "cell_type": "markdown",
   "id": "b5472760-e4ab-4666-8cda-3df3c4a8b5aa",
   "metadata": {},
   "source": [
    "# Exercises\n",
    "\n",
    "Try these and your own ideas. These are intended as a starting point. Play. As we go along, you'll have more ideas.\n",
    "\n",
    "- Write a simple script defining a struct and a function on that struct.\n",
    "\n",
    "  (example: define an animal from command-line arguments defining type, color,\n",
    "    age, and sex, and pretty print the resulting struct instance)\n",
    "\n",
    "- Create a package for some simple functionality and an appropriate package test.\n",
    "\n",
    "  (example: geometric shapes and properties)"
   ]
  },
  {
   "cell_type": "code",
   "execution_count": null,
   "id": "d3f9b70c-3040-4c5d-983c-1898238a1a0c",
   "metadata": {},
   "outputs": [],
   "source": []
  }
 ],
 "metadata": {
  "kernelspec": {
   "display_name": "Julia 1.11.5",
   "language": "julia",
   "name": "julia-1.11"
  },
  "language_info": {
   "file_extension": ".jl",
   "mimetype": "application/julia",
   "name": "julia",
   "version": "1.11.5"
  }
 },
 "nbformat": 4,
 "nbformat_minor": 5
}
