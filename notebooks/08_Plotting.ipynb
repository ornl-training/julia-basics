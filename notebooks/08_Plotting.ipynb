{
 "cells": [
  {
   "cell_type": "markdown",
   "metadata": {},
   "source": [
    "# Plotting in Julia\n",
    "\n",
    "In this lesson we will learn how to make beautiful plots using the [Plots.jl package](https://github.com/JuliaPlots/Plots.jl)\n",
    "\n",
    "n Julia there are many different libraries for plotting, for example `PyPlot.jl`, `GR.jl` and `Plotly.jl`. `Plots.jl` is a wrapper around all those library and exposes a clean and simple API for plotting. You can find all the back-ends available for Plots.jl [here](https://docs.juliaplots.org/latest/backends/).\n",
    "\n",
    "## Contents\n",
    "- [Using Plots.jl](#Using-Plots.jl)\n",
    "- [Working with different backends](#Working-with-different-backends)\n",
    "\n",
    "\n",
    "## Using Plots.jl\n",
    "\n",
    "Let’s make our first plot! We need to compute `x` and `y = f(x)`, for example let’s plot the sine function using the `gr` backend:\n"
   ]
  },
  {
   "cell_type": "code",
   "execution_count": null,
   "metadata": {},
   "outputs": [],
   "source": [
    "using Plots\n",
    "gr()\n",
    "\n",
    "function plotsFun()\n",
    "    x = 1:0.01:10*π\n",
    "    y = sin.(x)\n",
    "    plot(x, y, label=\"sin(x)\")\n",
    "    plot!(xlab=\"x\", ylab=\"f(x)\")\n",
    "end\n",
    "\n",
    "plotsFun()"
   ]
  },
  {
   "cell_type": "markdown",
   "metadata": {},
   "source": [
    "We add some elements to the plot, using `plot!`. Remember that in Julia the `!` is appended to the name of functions which perform some modification: in this case `plot!` modifies the current plot. In particular, we add a label to the x-axis and the y-axis.\n",
    "\n",
    "Let’s add another curve to the plot:"
   ]
  },
  {
   "cell_type": "code",
   "execution_count": null,
   "metadata": {},
   "outputs": [],
   "source": [
    "function plotsFun()\n",
    "    x = 1:0.01:10*π\n",
    "    y = sin.(x)\n",
    "    plot(x, y, label=\"sin(x)\")\n",
    "    plot!(xlab=\"x\", ylab=\"f(x)\")\n",
    "    \n",
    "    y2=sin.(x).^2\n",
    "    plot!(x, y2, label=\"sin(x)^2\", color=:red, line=:dash)\n",
    "\n",
    "end\n",
    "\n",
    "plotsFun()"
   ]
  },
  {
   "cell_type": "markdown",
   "metadata": {},
   "source": [
    "you can see that we have specified the colour of the line and the linestyle (which is dashed in this case). You can find more information on the possible parameters at the [official documentation](http://docs.juliaplots.org/latest/attributes/).\n",
    "\n",
    "Now we can set the scale of the x-axis to be logarithmic and change the position of the legend. We can see how it is possible to save the current plot as a .png file if we like:"
   ]
  },
  {
   "cell_type": "code",
   "execution_count": null,
   "metadata": {},
   "outputs": [],
   "source": [
    "function plotsFun()\n",
    "    x = 1:0.01:10*π\n",
    "    y = sin.(x)\n",
    "    plot(x, y, label=\"sin(x)\")\n",
    "    plot!(xlab=\"x\", ylab=\"f(x)\")\n",
    "    \n",
    "    y2=sin.(x).^2\n",
    "    plot!(x, y2, label=\"sin(x)^2\", color=:red, line=:dash)\n",
    "    xaxis!(:log10)\n",
    "    plot!(legend=:bottomleft)\n",
    "\n",
    "    #savefig(\"img1c.png\")\n",
    "end\n",
    "\n",
    "plotsFun()"
   ]
  },
  {
   "cell_type": "markdown",
   "metadata": {},
   "source": [
    "## Working with different backends\n",
    "\n",
    "Different backends have different features. Up to now we have worked with GR, which is fast and has almost everything you may need. Since GR is a relatively new backend, you may need to look at other backends for more customisation options. In this section, we will deal with Plotly and PyPlot.\n",
    "\n",
    "### Plotly\n",
    "\n",
    "[Plotly](https://plotly.com/julia/) is a good solution if you want to have nice interactive plots.\n",
    "\n",
    "To make a plot with Plotly, select the `plotly()` back-end and create a plot:"
   ]
  },
  {
   "cell_type": "code",
   "execution_count": null,
   "metadata": {},
   "outputs": [],
   "source": [
    "# set new backend\n",
    "plotly()\n",
    "\n",
    "function PlotlyFun()\n",
    "    x=1:0.1:3*π\n",
    "    y=1:0.1:3*π\n",
    "\n",
    "    xx = reshape([xi for xi in x for yj in y],  length(y), length(x))\n",
    "    yy = reshape([yj for xi in x for yj in y],  length(y), length(x))\n",
    "    zz = sin.(xx).*cos.(yy)\n",
    "    \n",
    "    plot3d(xx,yy,zz, label=:none, st = :surface)\n",
    "    plot!(xlab=\"x\", ylab=\"y\", zlab=\"sin(x)*cos(y)\")\n",
    "    #savefig(\"img2\") \n",
    "end\n",
    "\n",
    "PlotlyFun()"
   ]
  },
  {
   "cell_type": "markdown",
   "metadata": {},
   "source": [
    "Interact with [html image](../images/img2.html).\n",
    "\n",
    "### PyPlot\n",
    "\n",
    "PyPlot is a Python library for plotting, it's a wrapper to the module in Matplotlib. It has many customisation capabilities with the downside that you need to first install python and configure Julia to interact with Python. In order to configure and install PyCall, the package required to interact with Python, please refer to [this guide](https://techytok.com/lesson-interacting-with-python/).\n",
    "\n",
    "This is just an example, I didn't configure this IJulia kernel to work with Python.\n",
    "With the PyPlot back-end it is possible to use LaTeX in the labels (and axis labels) adding the LaTeXStrings package:\n",
    "\n",
    "```\n",
    "using Pkg\n",
    "Pkg.add(\"PyPlot\")\n",
    "Pkg.add(\"LaTeXStrings\")\n",
    "\n",
    "\n",
    "using LaTeXStrings\n",
    "pyplot()\n",
    "\n",
    "function PyPlotFun()\n",
    "    x=0:0.1:2*π\n",
    "    y=sin.(x).^2\n",
    "\n",
    "    # You can use LaTeX strings\n",
    "    plot(x, y, label=L\"$\\sin(x)^2$\")\n",
    "end\n",
    "\n",
    "PyPlotFun()\n",
    "```\n",
    "\n",
    "## Conclusions\n",
    "We have learned how to make some nice plots using three different backends, each one has its pros and cons. \n",
    "The Plots package serves as a unified interface.\n",
    "To summarise:\n",
    "\n",
    "- Use GR for fast “default” plotting.\n",
    "\n",
    "- Use Plotly for interactive plotting.\n",
    "\n",
    "- Use PyPlot if you need some of its customisation options.\n",
    "\n",
    "For a more comprehensive guide refer to the official documentation:\n",
    "https://docs.juliaplots.org/latest/tutorial/"
   ]
  }
 ],
 "metadata": {
  "kernelspec": {
   "display_name": "Julia 1.6.1",
   "language": "julia",
   "name": "julia-1.6"
  },
  "language_info": {
   "file_extension": ".jl",
   "mimetype": "application/julia",
   "name": "julia",
   "version": "1.6.1"
  }
 },
 "nbformat": 4,
 "nbformat_minor": 4
}
