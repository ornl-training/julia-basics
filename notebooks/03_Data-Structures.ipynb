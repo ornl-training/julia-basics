{
 "cells": [
  {
   "cell_type": "markdown",
   "metadata": {},
   "source": [
    "# Data Structures\n",
    "\n",
    "In this lesson we will study how data can be collected and stored in memory. In particular we will deal with vectors, matrices, n-dimensional arrays, tuples and dictionaries.\n",
    "\n",
    "Contents:\n",
    "- [Arrays](##Arrays)\n",
    "- [Tuples](##Tuples)\n",
    "- [Dictionaries](##Dictionaries)\n",
    "- [Conclusion](##Conclusion)"
   ]
  },
  {
   "cell_type": "markdown",
   "metadata": {},
   "source": [
    "## Arrays\n",
    "\n",
    "In this section we describe the out-of-the-box support for multidimensional arrays.\n",
    "In general, Julia follows a model that is very similar to Fortran arrays, while there are high-level functionality that resembles Python's numpy.\n",
    "\n",
    "A few things:\n",
    "\n",
    "- Julia uses 1-based index \n",
    "- Arrays are memory contiguous and column-based (first index changes the fastest).\n",
    "- Array must be of the same type (otherwise, they are tuples).\n",
    "\n",
    "### 1D Vector\n",
    "A vector is a list of ordered data which share a common type (be it `Int`, `Float`, `String`, or `Any`). Furthermore a vector is a one-dimensional array, and often “vector” and “array” are used a synonyms. Contrarily to the mathematical definition of a vector, in programming a vector is simply a list of values and has no a priori geometrical meaning.\n",
    "\n",
    "In Julia, to create a vector we use the following syntax:\n"
   ]
  },
  {
   "cell_type": "code",
   "execution_count": null,
   "metadata": {},
   "outputs": [],
   "source": [
    "function vectorInit()\n",
    "    a = [1,2,3,4,5]\n",
    "    b = Float32[1.2, 3,4,5] # typed\n",
    "    c = [\"Hello\", \"it's me\", \"William\"]\n",
    "    println(a, \" type: \", typeof(a))\n",
    "    println(b, \" type: \", typeof(b))\n",
    "    println(c, \" type: \", typeof(c))\n",
    "    println(\"\")\n",
    "    \n",
    "    println(first(a), \" is a's first element\")\n",
    "    println(last(a), \" is a's last element\")\n",
    "    println(\"\")\n",
    "    \n",
    "    println(first(c), \" is c's first element\")\n",
    "    println(last(c), \" is c's last element\")\n",
    "end\n",
    "\n",
    "vectorInit()"
   ]
  },
  {
   "cell_type": "markdown",
   "metadata": {},
   "source": [
    "We can access the members of an array using the indexing syntax: `array_name[index]`, for example, if we want to retrieve the third element of c we type `c[3]`. Contrary to other programming languages, in Julia **indices start at 1**, there is not much to say, it is just like that."
   ]
  },
  {
   "cell_type": "code",
   "execution_count": null,
   "metadata": {},
   "outputs": [],
   "source": [
    "function vectorIndexAccess()\n",
    "    a = [1,2,3,4,5]\n",
    "    println(\"a first: \", a[1], \" ; a last: \", a[5] )\n",
    "end\n",
    "\n",
    "vectorIndexAccess()"
   ]
  },
  {
   "cell_type": "markdown",
   "metadata": {},
   "source": [
    "Common functionality, see [here](https://julia.school/julia/arrays/) for more examples:"
   ]
  },
  {
   "cell_type": "code",
   "execution_count": null,
   "metadata": {},
   "outputs": [],
   "source": [
    "function vectorFun()\n",
    "    a = [1,2,3,4,5]\n",
    "    println(a, \" type: \", typeof(a))\n",
    "    \n",
    "    append!(a,6)\n",
    "    println(\"add item to the end: \", a )\n",
    "    \n",
    "    pop!(a)\n",
    "    println(\"remove last item: \", a )\n",
    "    \n",
    "    popfirst!(a)\n",
    "    println(\"remove first item: \", a )\n",
    "    \n",
    "    insert!(a, 1, 10)\n",
    "    println(\"insert: \", a )\n",
    "    insert!(a, 2, 10)\n",
    "    println(\"insert: \", a )\n",
    "    insert!(a, 3, 10)\n",
    "    println(\"insert: \", a )\n",
    "    insert!(a, 4, 10)\n",
    "    println(\"insert: \", a )\n",
    "    insert!(a, 5, 10)\n",
    "    println(\"insert: \", a )\n",
    "    \n",
    "end\n",
    "\n",
    "vectorFun()"
   ]
  },
  {
   "cell_type": "markdown",
   "metadata": {},
   "source": [
    "### 2D Matrix\n",
    "\n",
    "2D arrays is how matrices are defined in Julia. The `;` character is used to separate **COLUMNS** (like Fortran, Matlab and R, Julia is column-major, first index is the fastest). Access can be done using the syntax: \n",
    "- `A[column,row]`"
   ]
  },
  {
   "cell_type": "code",
   "execution_count": null,
   "metadata": {},
   "outputs": [],
   "source": [
    "function matrixFun()\n",
    "    A = [1 2 3; 4 5 6; 8 9 10]\n",
    "    println(\"A:\", A, \" typeof(A): \", typeof(A))\n",
    "    println(\"1st column, 2nd row: \", A[1,2])\n",
    "    println(\"slice 3rd column, all rows: \", A[3,:])  # fast slicing\n",
    "    println(\"slice 2nd row, all columns: \", A[:,2])  # slow slicing\n",
    "end\n",
    "\n",
    "matrixFun()"
   ]
  },
  {
   "cell_type": "markdown",
   "metadata": {},
   "source": [
    "### N-Dimensional Arrays\n",
    "\n",
    "Sometimes we need to create tables with more than 2 dimensions. In this case usually the tables tend to be big, so there is no explicit way to create an n-dimensional array. The suggested practice is to create an array first, and then fill it either manually of using a loop. For several initialization options (zeros, ones, undefined, etc.). Please consult the documentation on [Construction and Initialization](https://docs.julialang.org/en/v1/manual/arrays/#Construction-and-Initialization).\n",
    "\n",
    "As an example, let’s suppose we want to create a `2x3x4` table, we would do it with `zeros(2,3,4)`. Let’s suppose we want to fill it with the product of the indexes, we can do it in the following way:"
   ]
  },
  {
   "cell_type": "code",
   "execution_count": null,
   "metadata": {},
   "outputs": [],
   "source": [
    "function ndArrayFun()\n",
    "    ndarray = zeros(Int64, 2,3,4)\n",
    "    println(\"ndarray size: \", size(ndarray), \" type: \", typeof(ndarray) )\n",
    "    println(\"ndarray values: \\n\", ndarray)\n",
    "\n",
    "    for k in 1:4\n",
    "        for j in 1:3\n",
    "            for i in 1:2\n",
    "                ndarray[i,j,k] = i*j*k\n",
    "            end\n",
    "        end\n",
    "    end\n",
    "    println(\"\\n\")\n",
    "    println(\"ndarray values: \\n\", ndarray)\n",
    "    \n",
    "    println(\"\\n\")\n",
    "    println(\"Slicing: \\n\")\n",
    "    println(\"ndarray(:,:,1): \\n\", ndarray[:,:,1]) # slow\n",
    "    println(\"\\n\")\n",
    "    println(\"ndarray(1,:,:): \\n\", ndarray[1,:,:]) # fast\n",
    "    return\n",
    "end\n",
    "\n",
    "ndArrayFun()"
   ]
  },
  {
   "cell_type": "markdown",
   "metadata": {},
   "source": [
    "**NOTE:** Please not that Julia stores values in memory differently from Python: in Julia to obtain fast loops we need to iter first over columns (which means that the first index must vary first and so on). For this reason if we plan to store, for example, 42 2x2 matrices, we need to create an array of size 2x2x42 (while in Python we would have created a 42x2x2 table)."
   ]
  },
  {
   "cell_type": "markdown",
   "metadata": {},
   "source": [
    "## Tuples\n",
    "\n",
    "A tuple is a fixed size group of variables which may share a common type but don’t need to.\n",
    "\n",
    "Unlike arrays, you cannot increase the size of a tuple once it has been created. Tuples are created using the following syntax:"
   ]
  },
  {
   "cell_type": "code",
   "execution_count": null,
   "metadata": {},
   "outputs": [],
   "source": [
    "function tuplesInit()\n",
    "    a = (1,2,3.) # default types\n",
    "    println(a, \" typeof(a): \", typeof(a) )\n",
    "    \n",
    "    b = 1, 2, 3  # default types  \n",
    "    println(b, \" typeof(b): \", typeof(b) )\n",
    "    \n",
    "    c::Tuple{Float32,Float64} = (1., 2.)\n",
    "    println(c, \" typeof(c): \", typeof(c) )\n",
    "    \n",
    "    d::Tuple{String, Float32, Int16} = (\"William\", 2., 1)\n",
    "    println(d, \" typeof(d): \", typeof(d) )\n",
    "    return\n",
    "end\n",
    "\n",
    "tuplesInit()"
   ]
  },
  {
   "cell_type": "markdown",
   "metadata": {},
   "source": [
    "So tuples can be created by using regular brackets or no brackets at all! Tuples are really handy, as it is possible to “unpack” a tuple over many values:"
   ]
  },
  {
   "cell_type": "code",
   "execution_count": null,
   "metadata": {},
   "outputs": [],
   "source": [
    "function tupleUnpack()\n",
    "    tuple1 = (1, 2, 3)\n",
    "    a, b, c = tuple1\n",
    "    # variables can be referenced with $variable, use \\$ to escape\n",
    "    println(\"$a $b $c\")\n",
    "    return\n",
    "end\n",
    "\n",
    "tupleUnpack()"
   ]
  },
  {
   "cell_type": "markdown",
   "metadata": {},
   "source": [
    "It is also possible to use tuples to emulate multiple return values from functions:"
   ]
  },
  {
   "cell_type": "code",
   "execution_count": null,
   "metadata": {},
   "outputs": [],
   "source": [
    "function tupleReturn()::Tuple{Int32,Int32,Int32}\n",
    "    return 42, 43, 44\n",
    "end\n",
    "\n",
    "a, b, c = tupleReturn()\n",
    "print(\"$a $b $c\")"
   ]
  },
  {
   "cell_type": "markdown",
   "metadata": {},
   "source": [
    "### Splatting\n",
    "\n",
    "It is possible to “unpack” a tuple and pass its arguments to a function with the following syntax:"
   ]
  },
  {
   "cell_type": "code",
   "execution_count": null,
   "metadata": {},
   "outputs": [],
   "source": [
    "function tupleSplat(a, b, c)\n",
    "    return a*b*c\n",
    "end\n",
    "\n",
    "tuple1 = (1,2,3)\n",
    "println(\"1x2x3 = \", tupleSplat(tuple1...))"
   ]
  },
  {
   "cell_type": "markdown",
   "metadata": {},
   "source": [
    "So the `...` after a tuple will unpack it! This is useful but addictive, use it only if needed as it is better for clarity (and to avoid multiple dispatch errors) to call a function with its single parameters.\n",
    "\n",
    "### Names Tuples\n",
    "\n",
    "Named tuples are like tuples but with a name identifier for a single value, for example:\n"
   ]
  },
  {
   "cell_type": "code",
   "execution_count": null,
   "metadata": {},
   "outputs": [],
   "source": [
    "function tupleNamed()\n",
    "    tuple = (a = 1, b = \"hello\")\n",
    "    println( \"tuple[:a] = \", tuple[:a] )\n",
    "    println( \"tuple[:b] = \", tuple[:b] )\n",
    "    return\n",
    "end\n",
    "\n",
    "tupleNamed()"
   ]
  },
  {
   "cell_type": "markdown",
   "metadata": {},
   "source": [
    "## Dictionaries\n",
    "\n",
    "A dictionary is a collection of keys and values. They are unordered (which means that the order of the keys is random) and are really useful when you need to organise, for example, a dataset. For ordered dictionaries see the [OrderedCollections.jl package](https://juliacollections.github.io/OrderedCollections.jl/latest/index.html).\n",
    "\n",
    "Let’s suppose we want to create an address book. A single entry should be able to store all the fundamental characteristics needed to identify a friend: the name of the contact, the phone number and the shoe size!\n",
    "I can even make a dictionary containing other dictionaries or add to an existing dictionary:\n",
    "\n",
    "**NOTE:** as dictionaries become complex use a package for \"pretty printing\". We use [PrettyPrinting.jl](https://github.com/thautwarm/PrettyPrint.jl) for our example."
   ]
  },
  {
   "cell_type": "code",
   "execution_count": null,
   "metadata": {},
   "outputs": [],
   "source": [
    "using PrettyPrinting\n",
    "\n",
    "function dictInit()\n",
    "    person1 = Dict(\"Name\" => \"Aurelio\", \"Phone\" => 123456789, \"Shoe-size\" => 40)\n",
    "    pprintln(person1)\n",
    "    \n",
    "    person2 = Dict(\"Name\" => \"Elena\", \"Phone\" => 123456789, \"Shoe-size\" => 36)\n",
    "    pprintln(person2)\n",
    "    println()\n",
    "    \n",
    "    # dictionary containing dictionaries as values\n",
    "    addressBook = Dict(\"Aurelio\" => person1, \"Elena\" => person2)\n",
    "    println(\"Dictionary containing dictionaries as values: \")\n",
    "    pprintln(addressBook)\n",
    "    \n",
    "    # add into existing dictionary\n",
    "    println()\n",
    "    person3 = Dict(\"Name\" => \"Vittorio\", \"Phone\" => 123456789, \"Shoe-size\" => 42)\n",
    "    addressBook[\"Vittorio\"] = person3\n",
    "    println(\"Dictionary containing dictionaries as values with added entry: \")\n",
    "    pprintln(addressBook)\n",
    "    return\n",
    "end\n",
    "\n",
    "dictInit()"
   ]
  },
  {
   "cell_type": "markdown",
   "metadata": {},
   "source": [
    "We can access an element of the dictionary using its key or the `dict[key]` operator or the `get` or `get!` functions:\n",
    "\n",
    "- `get`: returns a default value if key is found, if not found return the default entry\n",
    "- `get!`: returns a default value if key is found, if not found return the default entry and adds to the dictionary\n",
    "\n",
    "**NOTE**: use the `get` function for safety as the intention is more clear. If `key` is not found in `dict[key]` it throws an error."
   ]
  },
  {
   "cell_type": "code",
   "execution_count": null,
   "metadata": {},
   "outputs": [],
   "source": [
    "function dictGet()\n",
    "    person3 = Dict(\"Name\" => \"Vittorio\", \"Phone\" => 123456789, \"Shoe-size\" => 42)\n",
    "    # get(Dictionary, Key, Default if not found)\n",
    "    value = get(person3, \"Name\", \"\")\n",
    "    println(\"Found: \", value)\n",
    "    println(\"Found: \", person3[\"Name\"])\n",
    "    \n",
    "    # get(Dictionary, Key, Default if not found)\n",
    "    value = get(person3, \"City\", \"Oak Ridge\")\n",
    "    println(\"get Not found: \", value)\n",
    "    pprintln(person3)\n",
    "    println()\n",
    "    \n",
    "    # get!(Dictionary, Key, add Default if not found)\n",
    "    value = get!(person3, \"City\", \"Oak Ridge\")\n",
    "    println(\"get! Not found, but added: \", value)\n",
    "    pprintln(person3)\n",
    "    \n",
    "    return\n",
    "end\n",
    "\n",
    "dictGet()"
   ]
  },
  {
   "cell_type": "markdown",
   "metadata": {},
   "source": [
    "## Conclusion\n",
    "\n",
    "In this lesson we have learned how to operate on arrays, tuples and dictionaries. Those structures are the basics of in-memory storage for any data. Arrays are lightweight and useful solutions to pass blocks of data, so use them whenever needed! Contrarily to C++, Julia has a built in garbage collector, so you don’t have to care about freeing memory and deleting pointers, as Julia will take care of it!\n",
    "\n",
    "\n",
    "## Questions\n",
    "\n",
    "1. Are Julia arrays column-major or row-major?\n",
    "2. Do Julia arrays start at 0 or 1?\n",
    "3. Are dictionaries ordered or unordered?\n",
    "4. Can tuples have multiple types?"
   ]
  }
 ],
 "metadata": {
  "kernelspec": {
   "display_name": "Julia 1.6.1",
   "language": "julia",
   "name": "julia-1.6"
  },
  "language_info": {
   "file_extension": ".jl",
   "mimetype": "application/julia",
   "name": "julia",
   "version": "1.6.1"
  }
 },
 "nbformat": 4,
 "nbformat_minor": 4
}
