{
 "cells": [
  {
   "cell_type": "markdown",
   "metadata": {},
   "source": [
    "# Functions\n",
    "\n",
    "The content material is taken from https://techytok.com/from-zero-to-julia/ \n",
    "\n",
    "**Table of Contents**\n",
    " - [Defining Functions](#Defining-Functions)\n",
    " - [Void Functions](#Void-Functions)\n",
    " - [Anonymous Functions](#Anonymous-Functions)\n",
    " - [Optional and Keyword Arguments](#Optional-and-Keyword-Arguments)\n",
    " - [Documenting Functions](#Documenting-Functions)\n",
    " - [Conclusion](#Conclusion)\n",
    "            \n",
    "Functions are the main building blocks in Julia. Every operation on variables and other elements is performed through functions, even the mathematical operators (e.g. `+`) are functions in an infix form.\n",
    "\n",
    "\n",
    "## Defining Functions\n",
    "\n",
    "A typical function looks like this: **NOTE: Julia doesn't enforce indentation as Python**"
   ]
  },
  {
   "cell_type": "code",
   "execution_count": null,
   "metadata": {},
   "outputs": [],
   "source": [
    "function plusTwo(x)\n",
    "    return x + 2\n",
    "end\n",
    "\n",
    "println( \"5 + 2 = \", plusTwo(5) )\n",
    "println( \"1 + 2 = \", plusTwo(1) )\n",
    "\n",
    "# we can restrict types\n",
    "function plusTwo(x::Int32)::Int32\n",
    "    return x+2\n",
    "end\n",
    "\n",
    "println( \"5 + 2 = \", plusTwo(5) )\n",
    "println( \"1 + 2 = \", plusTwo(1) )"
   ]
  },
  {
   "cell_type": "markdown",
   "metadata": {},
   "source": [
    "Although the previous is the most common way to write functions, it is sometimes convenient to use the inline version (think of the REPL):"
   ]
  },
  {
   "cell_type": "code",
   "execution_count": null,
   "metadata": {},
   "outputs": [],
   "source": [
    "plusTwo(x) = x+2\n",
    "\n",
    "println( \"2 + 2 = \", plusTwo(2) )\n",
    "println( \"3 + 2 = \", plusTwo(3) )\n",
    "\n",
    "# we can restrict types\n",
    "plusTwo(x::Real) = x+2\n",
    "\n",
    "println( \"2 + 2 = \", plusTwo(2) )\n",
    "println( \"3 + 2 = \", plusTwo(3) )\n"
   ]
  },
  {
   "cell_type": "markdown",
   "metadata": {},
   "source": [
    "A few important things:\n",
    "- Functions are defined with the keyword **function** and always finalized with **end**. \n",
    "- Julia **doesn't have member functions** ( foo.bar() ), functions can be scoped with modules (think Fortran).\n",
    "- Function arguments and return types are optional, but highly recommended\n",
    "- Function arguments can limit types using Abstract* types (see example below)\n",
    "- Functions can have multiple signatures (overloaded), it's the basis for multiple dispatch\n",
    "- Function arguments are *\"passed by reference\"*. Just like in Fortran, single values won't be modified, but array contents will.\n",
    "- It's a convention that if a function modifies its arguments it ends with `!`\n",
    "- The dot (`.`) operator is syntactic sugar for element by element operations (vectorization), see [article](https://julialang.org/blog/2017/01/moredots/). It's also called broadcasting."
   ]
  },
  {
   "cell_type": "code",
   "execution_count": null,
   "metadata": {},
   "outputs": [],
   "source": [
    "# modifies v\n",
    "function add!(v::AbstractArray{},c)\n",
    "    if size(v,1) >= 1      # bounds check\n",
    "        v[1] = v[1] + c\n",
    "    end\n",
    "    return\n",
    "end\n",
    "\n",
    "function run()\n",
    "  v = [1]\n",
    "  add!(v,2)\n",
    "  println(\"v is now: \", v)   \n",
    "  return\n",
    "end\n",
    "\n",
    "run()\n",
    "\n",
    "\n",
    "function add!(v::AbstractArray{}, c)\n",
    "    # dot operates element-by-element (think of dot product)\n",
    "    # must be next to operator (=, +)\n",
    "    v .= v .+ c  \n",
    "end\n",
    "\n",
    "function run()\n",
    "  v = [1,2,3]\n",
    "  add!(v,1) \n",
    "  println(\"v is now: \", v)   \n",
    "  return\n",
    "end\n",
    "\n",
    "run()\n"
   ]
  },
  {
   "cell_type": "markdown",
   "metadata": {},
   "source": [
    "## Void Functions\n",
    "\n",
    "Julia has a unique signature for all functions. `void` functions (`subroutines` in Fortran), those that don't return anything. Functions may also take no arguments and return no value, if needed, for example we can create a function which prints a string:"
   ]
  },
  {
   "cell_type": "code",
   "execution_count": null,
   "metadata": {},
   "outputs": [],
   "source": [
    "function say_hi()\n",
    "    println(\"Hello from ORNL!\")\n",
    "    return\n",
    "end\n",
    "\n",
    "say_hi()"
   ]
  },
  {
   "cell_type": "markdown",
   "metadata": {},
   "source": [
    "If the function returns no value `return` can be omitted. In general, ~it is also possible to omit the return statement even in regular functions and Julia will return the last computed value~. **NOTE: bad idea**. However, in my opinion, in this case it is better to return explicitly a value, for clarity’s sake."
   ]
  },
  {
   "cell_type": "code",
   "execution_count": null,
   "metadata": {},
   "outputs": [],
   "source": [
    "function say_hi()\n",
    "    println(\"Hello from ORNL without return!\")\n",
    "end\n",
    "\n",
    "say_hi()"
   ]
  },
  {
   "cell_type": "markdown",
   "metadata": {},
   "source": [
    "## Anonymous Functions\n",
    "\n",
    "It is also possible to create anonymous functions (like lambdas in Python or C++) using the following structure:"
   ]
  },
  {
   "cell_type": "code",
   "execution_count": null,
   "metadata": {},
   "outputs": [],
   "source": [
    "plusThree = x -> x+3\n",
    "\n",
    "println( \"5 + 3 = \", plusThree(5) )"
   ]
  },
  {
   "cell_type": "markdown",
   "metadata": {},
   "source": [
    "**NOTE: It is not recommended to use anonymous functions unless they are really simple.** It is generally better to write functions using the `function/end` keywords unless you need to write a small wrapper around another function and pass it to a third function. (Think of lambda functions in C++ and Python)\n",
    "\n",
    "```\n",
    "The following example is a bit more advanced and it includes topics which we have not yet studied, like integrals and how to install and use an external package. You can always come back later to read this example as it is not fundamental at this point of the course but you may find it useful one day. The take home message is never use anonymous functions unless you know what you are doing.\n",
    "```\n",
    "\n",
    "For example, let’s consider a function `f` of three variables `x`, `y` and `z`. Let’s suppose we want to fix two variables (y and z) and integrate f over x, we could do it with:"
   ]
  },
  {
   "cell_type": "code",
   "execution_count": null,
   "metadata": {},
   "outputs": [],
   "source": [
    "import QuadGK\n",
    "\n",
    "f(x,y,z) = (x^2 + 2y)*z\n",
    "\n",
    "result = QuadGK.quadgk(x->f(x,42,4), 3, 4)\n",
    "println(\"Integration and error usgin Gauss quadrature: \", result)"
   ]
  },
  {
   "cell_type": "markdown",
   "metadata": {},
   "source": [
    "or use an intermediate function"
   ]
  },
  {
   "cell_type": "code",
   "execution_count": null,
   "metadata": {},
   "outputs": [],
   "source": [
    "f(x,y,z) = (x^2 + 2y)*z\n",
    "g(x) = f(x,42,4)\n",
    "\n",
    "result = QuadGK.quadgk(g, 3, 4)\n",
    "println(\"Integration and error using Gauss quadrature: \", result)"
   ]
  },
  {
   "cell_type": "markdown",
   "metadata": {},
   "source": [
    "## Optional and Keyword Arguments\n",
    "\n",
    "### Optional arguments\n",
    "Sometimes a parameter may have a default value which can be specified so that the user doesn’t need to always type it. For example let’s write a function which converts our “weight” as measured on Earth (in kg) to the one measured on another planet."
   ]
  },
  {
   "cell_type": "code",
   "execution_count": null,
   "metadata": {},
   "outputs": [],
   "source": [
    "function myWeight(weightOnEarth, g=9.81)\n",
    "    return weightOnEarth*g/9.81\n",
    "end\n",
    "\n",
    "println( \"My weight on Earth: \", myWeight(90), \" kg\"  )\n",
    "println( \"My weight on Mars:  \", myWeight(90, 3.721), \" kg\" )"
   ]
  },
  {
   "cell_type": "markdown",
   "metadata": {},
   "source": [
    "As the name suggests positional arguments must be used in the right order, we cannot specify g before `weightOnEarth` and, as opposed to other languages like Python, in Julia we cannot change the order of the arguments even if we specify the name of the parameter. If we want optional arguments with no fixed position, we need to use **keyword arguments**."
   ]
  },
  {
   "cell_type": "markdown",
   "metadata": {},
   "source": [
    "### Keyword arguments \n",
    "Keyword arguments are separated from positional arguments by a semicolon ; and must always be addressed by their name, although their order is irrelevant. They can be either optional and not, but usually we use keyword arguments for optional parameters."
   ]
  },
  {
   "cell_type": "code",
   "execution_count": null,
   "metadata": {},
   "outputs": [],
   "source": [
    "# positional arguments ; keyword arguments\n",
    "function my_long_function(a, b=2; c, d=3)\n",
    "    return a + b + c + d\n",
    "end"
   ]
  },
  {
   "cell_type": "markdown",
   "metadata": {},
   "source": [
    "Here `a` and `b` are positional arguments, while `c` and `d` are keyword arguments. Keyword arguments must always be specified either by default or explicitly."
   ]
  },
  {
   "cell_type": "code",
   "execution_count": null,
   "metadata": {},
   "outputs": [],
   "source": [
    "# Usage Examples:\n",
    "\n",
    "# a=1, b=2 (default), c=3, d=3 (default)\n",
    "println( my_long_function(1, c=3) )\n",
    "\n",
    "# a=1, b=2, c=3, d=3 (default)\n",
    "println( my_long_function(1, 2, c=3) )\n",
    "\n",
    "# a=1, b=2, c=3, d=5, order doesn't matter for keyword arguments\n",
    "println( my_long_function(1, 2, d=5, c=3) )"
   ]
  },
  {
   "cell_type": "code",
   "execution_count": null,
   "metadata": {},
   "outputs": [],
   "source": [
    "# Error, c is not defined, Keyword argument must be defined\n",
    "my_long_function(1, 2, d=5)"
   ]
  },
  {
   "cell_type": "markdown",
   "metadata": {},
   "source": [
    "**Tip**: prefer positional arguments for performance (function called several times) as it's closer to underlying libraries (C, Fortran, C++)"
   ]
  },
  {
   "cell_type": "markdown",
   "metadata": {},
   "source": [
    "## Documenting Functions\n",
    "\n",
    "Julia supports function API documentation using Markdown, similar to Python docstring. Function documentation is done above a function using the \"\"\" \"\"\" opening and closing symbols. While the macro `@doc` (or the `?function_name` in the REPL) exposes the documentation information if available."
   ]
  },
  {
   "cell_type": "code",
   "execution_count": null,
   "metadata": {},
   "outputs": [],
   "source": [
    "# Example: show built-in sin documentation\n",
    "@doc sin"
   ]
  },
  {
   "cell_type": "code",
   "execution_count": null,
   "metadata": {},
   "outputs": [],
   "source": [
    "\"\"\"\n",
    "add(x,y)\n",
    "\n",
    "Compute the sum of 2 numbers `x + y`\n",
    "    \n",
    "# Arguments:\n",
    "- x: input any number\n",
    "- y: input any number\n",
    "\n",
    "# Examples\n",
    "```\n",
    "julia> add(2,4)\n",
    "6\n",
    "```\n",
    "\"\"\"\n",
    "function add(x,y)\n",
    "    return x+y\n",
    "end\n",
    "\n",
    "@doc add"
   ]
  },
  {
   "cell_type": "markdown",
   "metadata": {},
   "source": [
    "## Conclusion\n",
    "\n",
    "In this lesson we learned how to define functions and use positional as well as keyword arguments.\n",
    "\n",
    "**Questions:**\n",
    "\n",
    "1. How many way exist to define a function in Julia?\n",
    "2. Can functions be member functions in Julia?\n",
    "3. What's the difference between Optional and Keyword arguments?\n",
    "4. How do you document your function API in Julia?"
   ]
  }
 ],
 "metadata": {
  "kernelspec": {
   "display_name": "Julia 1.6.1",
   "language": "julia",
   "name": "julia-1.6"
  },
  "language_info": {
   "file_extension": ".jl",
   "mimetype": "application/julia",
   "name": "julia",
   "version": "1.6.1"
  }
 },
 "nbformat": 4,
 "nbformat_minor": 4
}
