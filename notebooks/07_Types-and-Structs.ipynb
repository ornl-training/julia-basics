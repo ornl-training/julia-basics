{
 "cells": [
  {
   "cell_type": "markdown",
   "metadata": {},
   "source": [
    "# Composite Types: struct \n",
    "\n",
    "In this lesson we will learn to create your own composite types also known as structs. We will learn: \n",
    "\n",
    "- Differences between abstract and concrete types\n",
    "- How to define immutable and mutable types \n",
    "- How to create a type constructor. \n",
    "- Brief intro to multiple dispatch and see how types have a role in it.\n",
    "\n",
    "\n",
    "## Contents\n",
    "\n",
    "- [Types as Containers for Data](#Types-as-Containers-for-Data)\n",
    "- [Defining Types](#Abstract-Types)\n",
    "- [Multiple Dispatch](#Multiple-Dispatch)\n",
    "- [Type Constructor](#Type-Constructor)\n",
    "\n",
    "\n",
    "## Types as Containers for Data\n",
    "\n",
    "We can think of types as \"containers for data\" only. Moreover, it is possible to define a type hierarchy so that functions that work for parent type work also for the children (if they are written properly). A parent type can only be an `AbstractType` (like `Number`), while a child can be both an abstract or concrete type (like `Float32`). In the following tree diagram, types in round bubbles are abstract types, while the ones in square bubbles are concrete types.\n",
    "\n",
    "<img src=\"../images/types.jpg\" alt=\"Drawing\" width=\"500\" height=\"700\"/>\n",
    "\n",
    "\n",
    "## Defining Types\n",
    "\n",
    "To declare an `abstract type` we use:"
   ]
  },
  {
   "cell_type": "code",
   "execution_count": null,
   "metadata": {},
   "outputs": [],
   "source": [
    "abstract type Person\n",
    "end\n",
    "\n",
    "abstract type Musician <: Person\n",
    "end"
   ]
  },
  {
   "cell_type": "markdown",
   "metadata": {},
   "source": [
    "You may find it surprising, but apparently musicians are people, so Musician is a sub-type of Person. There are many kind of musicians, for example rock-stars and classic musicians, so we define two new concrete types (in particular this kind of type is called a composite type):"
   ]
  },
  {
   "cell_type": "code",
   "execution_count": null,
   "metadata": {},
   "outputs": [],
   "source": [
    "mutable struct Rockstar <: Musician\n",
    "    name::String\n",
    "    instrument::String\n",
    "    bandName::String\n",
    "    headbandColor::String\n",
    "    instrumentsPlayed::Int\n",
    "end\n",
    "\n",
    "struct ClassicMusician <: Musician\n",
    "    name::String\n",
    "    instrument::String\n",
    "end"
   ]
  },
  {
   "cell_type": "markdown",
   "metadata": {},
   "source": [
    "Notably rock-stars love to change the colour of their headband, so we have made `Rockstar` a `mutable struct`, which is a concrete type whose elements value can be modified. On the contrary, classic musicians are known for their everlasting love for their instrument, which will never change, so we have made `ClassicMusician` an immutable concrete type, which is the default behavior for structs (Rust made a similar design decision).\n",
    "\n",
    "We can define another sub-type of `Person`, `Physicist`:"
   ]
  },
  {
   "cell_type": "code",
   "execution_count": null,
   "metadata": {},
   "outputs": [],
   "source": [
    "mutable struct Physicist <: Person\n",
    "    name::String\n",
    "    sleepHours::Float64\n",
    "    programmingLanguage::String\n",
    "end\n",
    "\n",
    "aurelio = Physicist(\"Aurelio\", 6, \"Julia\")\n",
    "println(\"Name: \", aurelio.name)\n",
    "println(\"Sleep hours: \", aurelio.sleepHours)\n",
    "println(\"Programming Language: \", aurelio.programmingLanguage)"
   ]
  },
  {
   "cell_type": "markdown",
   "metadata": {},
   "source": [
    "Since Physicist is a `mutable struct` we can adjust sleep hours:"
   ]
  },
  {
   "cell_type": "code",
   "execution_count": null,
   "metadata": {},
   "outputs": [],
   "source": [
    "aurelio.sleepHours = 8\n",
    "println(\"New Sleep hours: \", aurelio.sleepHours)"
   ]
  },
  {
   "cell_type": "markdown",
   "metadata": {},
   "source": [
    "Unlike a non-mutable struct, in which resetting data would fail:"
   ]
  },
  {
   "cell_type": "code",
   "execution_count": null,
   "metadata": {},
   "outputs": [],
   "source": [
    "aurelio_musician = ClassicMusician(\"Aurelio\", \"Violin\")\n",
    "aurelio_musician.instrument = \"Guitar\""
   ]
  },
  {
   "cell_type": "markdown",
   "metadata": {},
   "source": [
    "As you can see, I love violin and I just can’t change my instrument, as ClassicMusician is an `immutable struct`.\n",
    "\n",
    "I am not a rock-star, but my friend Ricky is one, so we’ll define:"
   ]
  },
  {
   "cell_type": "code",
   "execution_count": null,
   "metadata": {},
   "outputs": [],
   "source": [
    "ricky = Rockstar(\"Riccardo\", \"Voice\", \"Black Lotus\", \"red\", 2)\n",
    "println(ricky)\n",
    "println(\"Ricky's headband color: \", ricky.headbandColor)"
   ]
  },
  {
   "cell_type": "markdown",
   "metadata": {},
   "source": [
    "## Multiple Dispatch\n",
    "\n",
    "It is possible to write functions that operate on both abstract and concrete types. For example, every person is likely to have a name, so we can define the following function:"
   ]
  },
  {
   "cell_type": "code",
   "execution_count": null,
   "metadata": {},
   "outputs": [],
   "source": [
    "function introduceMe(person::Person)\n",
    "    println(\"Hello, my name is $(person.name).\")\n",
    "end\n",
    "\n",
    "introduceMe(ricky)\n",
    "introduceMe(aurelio)"
   ]
  },
  {
   "cell_type": "markdown",
   "metadata": {},
   "source": [
    "While only musicians play instruments, so we can define the following function:"
   ]
  },
  {
   "cell_type": "code",
   "execution_count": null,
   "metadata": {},
   "outputs": [],
   "source": [
    "function introduceMe(person::Musician)\n",
    "    println(\"Hello, my name is $(person.name) and I play $(person.instrument).\")\n",
    "end\n",
    "\n",
    "introduceMe(ricky)\n",
    "introduceMe(aurelio)\n",
    "introduceMe(aurelio_musician)"
   ]
  },
  {
   "cell_type": "markdown",
   "metadata": {},
   "source": [
    "The `::SomeType` notation indicates to Julia that person has to be of the aforementioned type or a sub-type. Only the most strict type requirement is considered (which is the lowest type in the type tree), for example ricky is a Person, but **more importantly** he is a `Rockstar` (Rockstar is placed lower in the type tree), thus `introduceMe(person::Rockstar)` is called. In other words, the function with the closest type signature will be called.\n",
    "\n",
    "This is an example of **multiple dispatch**, which means that we have written a single function with different methods depending on the type of the variable. We will come back again to multiple dispatch in this lesson, as it is one of the most important features of Julia and is considered a more advanced topic, together with type annotations. As an anticipation `::Rockstar` is a type annotation, the compiler will check if person is a Rockstar (or a sub-type of it) and if that is true it will execute the function.\n",
    "\n",
    "- **NOTE 1: since Julia is not object-oriented it favors multiple dispatch + composition**\n",
    "- **NOTE 2: abstract types do not have \"members\" or \"fields\"** see [issue for the design decision](https://github.com/JuliaLang/julia/issues/4935)\n",
    "- **NOTE 3: concrete types do not have \"member\" functions, only constructors**\n",
    "\n",
    "## Type Constructor\n",
    "\n",
    "When we created the previous types, two constructors were generated automatically (these are called default constructors). One accepts any arguments and calls convert to convert them to the types of the fields, and the other accepts arguments that match the field types exactly (`String` and `String` in the case of `ClassicMusician`). The reason both of these are generated is that this makes it easier to add new definitions without inadvertently replacing a default constructor.\n",
    "\n",
    "Sometimes it is more convenient to create custom constructor, so that it is possible to assign default values to certain variables, or perform some initial computations."
   ]
  },
  {
   "cell_type": "code",
   "execution_count": null,
   "metadata": {},
   "outputs": [],
   "source": [
    "mutable struct MyData\n",
    "    x::Float64\n",
    "    x2::Float64\n",
    "    y::Float64\n",
    "    z::Float64\n",
    "\n",
    "    # treat them as a new function\n",
    "    function MyData(x::Float64, y::Float64)\n",
    "        x2=x^2\n",
    "        z = sin(x2+y)\n",
    "        new(x, x2, y, z) # default constructor\n",
    "    end\n",
    "    \n",
    "    function MyData(x::Float64, x2::Float64, y::Float64, z::Float64)\n",
    "        new(x,x2,y,z)\n",
    "    end\n",
    "end\n",
    "\n",
    "println(\"Custom constructor: \", MyData(2.0, 3.0) )\n",
    "println(\"Default constructor: \", MyData(2.0, 4.0, 3.0, 0.6569865987187891) )"
   ]
  },
  {
   "cell_type": "markdown",
   "metadata": {},
   "source": [
    "Sometimes it may be useful to use other types for x, x2 and y, so it is possible to use parametric `{T}` types (i.e. types that accept type information at construction time):"
   ]
  },
  {
   "cell_type": "code",
   "execution_count": null,
   "metadata": {},
   "outputs": [],
   "source": [
    "mutable struct MyData2{T<:Real}\n",
    "    x::T\n",
    "    x2::T\n",
    "    y::T\n",
    "    z::Float64\n",
    "    function MyData2{T}(x::T, y::T) where {T<:Real}\n",
    "        x2=x^2\n",
    "        z = sin(x2+y)\n",
    "        new(x, x2, y, z)\n",
    "    end\n",
    "end\n",
    "\n",
    "\n",
    "println(MyData2{Float64}(2.0,3.0) )\n",
    "println(MyData2{Int}(2,3) )"
   ]
  },
  {
   "cell_type": "markdown",
   "metadata": {},
   "source": [
    "## Conclusions\n",
    "\n",
    "We have learnt how to define abstract and concrete types, and how to define mutable and immutable structures. We have then learnt how it is possible to define functions that work on custom types and we have introduced multiple dispatch.\n",
    "\n",
    "## Questions\n",
    "\n",
    "1. Can we have members in an abstract type?\n",
    "2. Can we have functions in concrete types?\n",
    "3. Is multiple dispatch the same as function overload?"
   ]
  }
 ],
 "metadata": {
  "kernelspec": {
   "display_name": "Julia 1.6.1",
   "language": "julia",
   "name": "julia-1.6"
  },
  "language_info": {
   "file_extension": ".jl",
   "mimetype": "application/julia",
   "name": "julia",
   "version": "1.6.1"
  },
  "toc-autonumbering": false
 },
 "nbformat": 4,
 "nbformat_minor": 4
}
