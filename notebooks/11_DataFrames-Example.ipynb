{
 "cells": [
  {
   "cell_type": "markdown",
   "metadata": {},
   "source": [
    "# DataFrames Example\n",
    "\n",
    "DataFrames is a collection of tools for working with tabular data in Julia. Think of pandas or R's Data frames.\n",
    "\n",
    "Resources:\n",
    "- https://github.com/bkamins/Julia-DataFrames-Tutorial/\n",
    "- https://dataframes.juliadata.org/v0.11/man/getting_started.html\n",
    "\n",
    "Let's go to functional code:"
   ]
  },
  {
   "cell_type": "code",
   "execution_count": null,
   "metadata": {},
   "outputs": [],
   "source": [
    "import CSV\n",
    "import DataFrames\n",
    "using Plots\n",
    "\n",
    "function plot_CSV_3col( filename::String )\n",
    "  \n",
    "  df = CSV.File(filename) |> DataFrames.DataFrame\n",
    "  \n",
    "  x = df[!,\"plots_cells\"]\n",
    "  yL0 = df[!,3]\n",
    "  yL1 = df[!,4]\n",
    "  yL2 = df[!,5]  \n",
    "  z = df[!,\"caseID\"]  \n",
    "    \n",
    "  fig2 = Plots.scatter( x, yL0, groups = z, label=\"L0\",\n",
    "                          marker = (:x, 5, 1.0),\n",
    "                          markercolor = [:blue :green :red :orange :pink :black],\n",
    "                          legendfontsize=6,\n",
    "                          legend = :outertopleft,\n",
    "                          xlabel = \"cumulative output ncells ( output_counter x ncells )\", \n",
    "                          ylabel = \"cumulative output data size (bytes)\", \n",
    "                          title = \"Amrex Castro hydro_test Sedov output size per Level\",\n",
    "                          size=(850,600),\n",
    "                          reuse = true\n",
    "                          )\n",
    "  Plots.scatter!( x, yL1, groups = z, label= \"L1\", \n",
    "                          marker = (:+, 5, 1.0),\n",
    "                          markercolor = [:blue :green :red :orange :pink :black],\n",
    "                           )\n",
    "                            \n",
    "  Plots.scatter!( x, yL2, groups = z, label=\"L2\", \n",
    "                          marker = (:star4, 5, 1.0),\n",
    "                            markercolor = [:blue :green :red :orange :pink :black],\n",
    "                          )\n",
    "end\n",
    "\n",
    "\n",
    "\n",
    "function main()\n",
    "    filename = \"../data/plot_size_case4.csv\"\n",
    "    plot_CSV_3col(filename)\n",
    "end\n",
    "\n",
    "main()"
   ]
  }
 ],
 "metadata": {
  "kernelspec": {
   "display_name": "Julia 1.6.1",
   "language": "julia",
   "name": "julia-1.6"
  },
  "language_info": {
   "file_extension": ".jl",
   "mimetype": "application/julia",
   "name": "julia",
   "version": "1.6.1"
  }
 },
 "nbformat": 4,
 "nbformat_minor": 4
}
