{
 "cells": [
  {
   "cell_type": "markdown",
   "metadata": {},
   "source": [
    "## MPI Heat Transfer 2D\n",
    "\n",
    "Let's put it all together with a classic example.\n",
    "\n",
    "Credit goes to the [Difussion.jl](https://github.com/cbellei/Diffusion.jl) package"
   ]
  },
  {
   "cell_type": "code",
   "execution_count": null,
   "metadata": {},
   "outputs": [],
   "source": [
    "# This is a required step if using mpirun from the system\n",
    "using Pkg\n",
    "Pkg.activate()\n",
    "Pkg.build(\"MPI\")\n",
    "\n",
    "run(`mpirun -n 4 julia main.jl config.yaml`)"
   ]
  },
  {
   "cell_type": "markdown",
   "metadata": {},
   "source": [
    "# here plot"
   ]
  }
 ],
 "metadata": {
  "kernelspec": {
   "display_name": "Julia 1.6.1",
   "language": "julia",
   "name": "julia-1.6"
  },
  "language_info": {
   "file_extension": ".jl",
   "mimetype": "application/julia",
   "name": "julia",
   "version": "1.6.1"
  }
 },
 "nbformat": 4,
 "nbformat_minor": 4
}
