{
 "cells": [
  {
   "cell_type": "markdown",
   "metadata": {},
   "source": [
    "## MPI Heat Transfer 2D\n",
    "\n",
    "Let's put it all together with a classic example.\n",
    "\n",
    "Credit goes to the [Difussion.jl](https://github.com/cbellei/Diffusion.jl) package"
   ]
  },
  {
   "cell_type": "code",
   "execution_count": null,
   "metadata": {},
   "outputs": [],
   "source": [
    "# This is a required step if using mpirun from the system\n",
    "using Pkg\n",
    "Pkg.add(\"MPI\")\n",
    "Pkg.build(\"MPI\")\n",
    "\n",
    "using MPI\n",
    "MPI.install_mpiexecjl(force=true)\n",
    "\n",
    "# MyBinder: \n",
    "run(`/srv/julia/pkg/bin/mpiexecjl -n 4 julia main.jl config.yaml`)\n",
    "# local: modify mpiexecjl location \n",
    "# run(`/home/wgodoy/.julia/bin/mpiexecjl -n 4 julia main.jl config.yaml`)"
   ]
  },
  {
   "cell_type": "markdown",
   "metadata": {},
   "source": [
    "# Read data with DelimitedFiles and Plots"
   ]
  },
  {
   "cell_type": "code",
   "execution_count": null,
   "metadata": {},
   "outputs": [],
   "source": [
    "using DelimitedFiles\n",
    "using Plots\n",
    "gr()\n",
    "\n",
    "data = readdlm(\"output.dat\", ' ', Float64)\n",
    "\n",
    "heatmap(1:size(data,1),\n",
    "    1:size(data,2), data,\n",
    "    c=cgrad([:blue, :white,:red, :yellow]),\n",
    "    xlabel=\"x\", ylabel=\"y\",\n",
    "    title=\"My Heat Map\")"
   ]
  }
 ],
 "metadata": {
  "kernelspec": {
   "display_name": "Julia 1.6.1",
   "language": "julia",
   "name": "julia-1.6"
  },
  "language_info": {
   "file_extension": ".jl",
   "mimetype": "application/julia",
   "name": "julia",
   "version": "1.6.1"
  }
 },
 "nbformat": 4,
 "nbformat_minor": 4
}
