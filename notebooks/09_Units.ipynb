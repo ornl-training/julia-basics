{
 "cells": [
  {
   "cell_type": "markdown",
   "metadata": {},
   "source": [
    "# Units\n",
    "\n",
    "In this lesson we will learn how to use units of measurement in Julia. We will learn how to convert from one unit to another and we will see how to write functions which can deal with units.\n",
    "\n",
    "The package used to deal with units of measurement in Julia is [Unitful.jl](https://github.com/PainterQubits/Unitful.jl).\n",
    "In order to add units of measurement to numbers we use the notation `u\"unit\"`"
   ]
  },
  {
   "cell_type": "code",
   "execution_count": null,
   "metadata": {},
   "outputs": [],
   "source": [
    "using Unitful\n",
    "\n",
    "function UnitsFun()\n",
    "    one_meter = 1u\"m\"\n",
    "    println(one_meter, \" type of one meter: \", typeof(one_meter))\n",
    "    \n",
    "    # convert\n",
    "    one_kilometer = uconvert(u\"km\", one_meter)\n",
    "    println(one_kilometer, \" type of one_kilometer: \", typeof(one_kilometer))\n",
    "    # strip\n",
    "    c = ustrip(u\"m\", one_meter)\n",
    "    println(c, \" type of c: \", typeof(c))\n",
    "end\n",
    "\n",
    "UnitsFun()"
   ]
  },
  {
   "cell_type": "markdown",
   "metadata": {},
   "source": [
    "It is possible to write functions that accept arguments with units without any particular change:"
   ]
  },
  {
   "cell_type": "code",
   "execution_count": null,
   "metadata": {},
   "outputs": [],
   "source": [
    "function compute_speed(Δx, Δt)\n",
    "    return Δx/Δt\n",
    "end\n",
    "\n",
    "println( compute_speed(1u\"km\", 2u\"s\") )"
   ]
  },
  {
   "cell_type": "markdown",
   "metadata": {},
   "source": [
    "It is also possible to write functions with type annotations specific for arguments with units. Unitful provides many abstract types such as `Unitful.Length` or `Unitful.Time`, which are useful for type annotation of function arguments:"
   ]
  },
  {
   "cell_type": "code",
   "execution_count": null,
   "metadata": {},
   "outputs": [],
   "source": [
    "function compute_speed(Δx::Unitful.Length, Δt::Unitful.Time)\n",
    "    return uconvert(u\"m/s\", Δx/Δt)\n",
    "end\n",
    "\n",
    "println( compute_speed(1u\"km\", 2u\"s\") )"
   ]
  },
  {
   "cell_type": "markdown",
   "metadata": {},
   "source": [
    "Although it may be tempting, it is better to refrain from using abstract types inside type definitions. When defining a struct, you can use typeof to get the right type for the annotations:"
   ]
  },
  {
   "cell_type": "code",
   "execution_count": null,
   "metadata": {},
   "outputs": [],
   "source": [
    "struct Person\n",
    "    height::typeof(1.0u\"m\")\n",
    "    mass::typeof(1.0u\"kg\")\n",
    "end"
   ]
  },
  {
   "cell_type": "markdown",
   "metadata": {},
   "source": [
    "Similarly, in Julia it is possible to compute integrals numerically taking into account units of measurements. For example, if we integrate a velocity over an interval of time we will get the distance covered:"
   ]
  },
  {
   "cell_type": "code",
   "execution_count": null,
   "metadata": {},
   "outputs": [],
   "source": [
    "using QuadGK\n",
    "velocity(t::Unitful.Time) = 2u\"m/s^2\"*t + 1u\"m/s\"\n",
    "\n",
    "println( quadgk(velocity, 0u\"s\", 3u\"s\")[1] )\n"
   ]
  },
  {
   "cell_type": "markdown",
   "metadata": {},
   "source": [
    "## Conclusions\n",
    "\n",
    "In this lesson we have learnt how to add units of measurement using Unitful.jl and how to write functions which naturally use units. Furthermore, we have seen how QuadGK handles correctly units inside integrals."
   ]
  }
 ],
 "metadata": {
  "kernelspec": {
   "display_name": "Julia 1.6.1",
   "language": "julia",
   "name": "julia-1.6"
  },
  "language_info": {
   "file_extension": ".jl",
   "mimetype": "application/julia",
   "name": "julia",
   "version": "1.6.1"
  }
 },
 "nbformat": 4,
 "nbformat_minor": 4
}
