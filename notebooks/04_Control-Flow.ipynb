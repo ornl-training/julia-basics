{
 "cells": [
  {
   "cell_type": "markdown",
   "metadata": {},
   "source": [
    "# Control Flow\n",
    "\n",
    "In this lesson we will learn how to work with control statements. We will first learn how to use conditional blocks like `if ... else` blocks and then we will learn how to perform loops.\n",
    "\n",
    "## Contents\n",
    "\n",
    "- [if...else](##if...else)\n",
    "- [for loops](##for-loops)\n",
    "- [enumerate](##enumerate)\n",
    "- [break](##break)\n",
    "- [continue](##continue)\n",
    "- [while loops](##while-loops)\n",
    "- [Conclusion](##Conclusion)"
   ]
  },
  {
   "cell_type": "markdown",
   "metadata": {},
   "source": [
    "## if...else\n",
    "\n",
    "When a program needs to take decisions according to certain conditions, the `if ... else` block is the default choice.\n",
    "\n",
    "Let’s suppose that we want to write a simple implementation of the absolute value of a number. The absolute value of a number is defined as the number itself, if the number is positive, or the opposite if the value is negative. This is the typical case where the `if ... else` construct is useful! We can write a simple absolute function in this way:"
   ]
  },
  {
   "cell_type": "code",
   "execution_count": null,
   "metadata": {},
   "outputs": [],
   "source": [
    "function absolute(x)\n",
    "    if x >= 0\n",
    "        return x\n",
    "    else\n",
    "        return -x\n",
    "    end\n",
    "end\n",
    "\n",
    "println(absolute(-1))\n",
    "println(absolute(1))"
   ]
  },
  {
   "cell_type": "markdown",
   "metadata": {},
   "source": [
    "As you can see, an `if ... else` block is closed with the word `end`, like a `function`.\n",
    "\n",
    "If we need to check more than one condition, we can bind together conditions using:\n",
    "\n",
    "- \"negation\" is written as `!`\n",
    "- “and” is written as `&&` \n",
    "- “or” is written as `||`\n",
    "\n",
    "**NOTE:** same as C or C++\n",
    "\n",
    "For example, if we want to check whether 3 is both minor than 4 and major than 1 we type:"
   ]
  },
  {
   "cell_type": "code",
   "execution_count": null,
   "metadata": {},
   "outputs": [],
   "source": [
    "if 1 < 3 && 3 < 4\n",
    "    println(\"eureka! &&\")\n",
    "end"
   ]
  },
  {
   "cell_type": "markdown",
   "metadata": {},
   "source": [
    "If we want to check if a value satisfies one of several different conditions, we can use the `elseif` statement: Julia will check if the first condition specified in the if is satisfied, if it is not met it moves on to the first `elseif` and so on:"
   ]
  },
  {
   "cell_type": "code",
   "execution_count": null,
   "metadata": {},
   "outputs": [],
   "source": [
    "function elseifFun(x)\n",
    "    if x<1\n",
    "        println(\"$x < 1\")\n",
    "    elseif x < 3\n",
    "        println(\"$x < 3\")\n",
    "    elseif x < 100\n",
    "        println(\"$x < 100\")\n",
    "    else\n",
    "        println(\"$x is really big!\")\n",
    "    end\n",
    "    return\n",
    "end\n",
    "\n",
    "elseifFun(42)\n",
    "elseifFun(100)\n",
    "elseifFun(0)"
   ]
  },
  {
   "cell_type": "markdown",
   "metadata": {},
   "source": [
    "## for loops\n",
    "\n",
    "**Ranges**: There is many ways to iterate over a list of values and perform some operation on each element.\n",
    "\n",
    "  - `for i in min:max`\n",
    "  - `for i = min:max`\n",
    "\n",
    "Ranges can be defined explicitly using the [`range` function](https://docs.julialang.org/en/v1/base/math/#Base.range).\n",
    "For example let’s suppose we want to print all the squares of the numbers comprised between 1 and 10, we can do it using a for loop:"
   ]
  },
  {
   "cell_type": "code",
   "execution_count": null,
   "metadata": {},
   "outputs": [],
   "source": [
    "function forloopFun()\n",
    "\n",
    "    println(\"Using in\")\n",
    "    for i in 1:10\n",
    "        print(i^2, \" \")\n",
    "    end\n",
    "    println()\n",
    "\n",
    "    println()\n",
    "    println(\"Using =\")\n",
    "    for i = 1:10\n",
    "        print(i^2, \" \")\n",
    "    end\n",
    "    println()\n",
    "\n",
    "    println()\n",
    "    println(\"Using in and range function\")\n",
    "    for i in range(1,stop=10)\n",
    "        print(i^2, \" \")\n",
    "    end\n",
    "    println()\n",
    "    \n",
    "    println()\n",
    "    println(\"Using length function for ranges\")\n",
    "    my_array1 = collect(1:10) # 1, 2, ..., 10\n",
    "    my_array2 = zeros(10)\n",
    "    for i in 1:length(my_array1)\n",
    "        my_array2[i] = my_array1[i]^2\n",
    "    end\n",
    "    println(my_array2)\n",
    "    \n",
    "    return\n",
    "end\n",
    "\n",
    "forloopFun()"
   ]
  },
  {
   "cell_type": "markdown",
   "metadata": {},
   "source": [
    "`i` is the variable which contains the data which gets updated at each new cycle (in this case i holds the numbers from 1 to 10 respectively), while `1:10` is a *range*. A range is an iterable object which does exactly what its name suggests: it specifies the range on which the loop has to be performed (in this case 1 to 10).\n",
    "\n",
    "**Lists**: we can iterate element by element in data structures that can be represented as lists: arrays, tuples, dictionaries (key/value pairs or keys only). \n",
    "\n",
    "For example, let’s suppose we have an array and a dictionary:"
   ]
  },
  {
   "cell_type": "code",
   "execution_count": null,
   "metadata": {},
   "outputs": [],
   "source": [
    "function forlist()\n",
    "    persons = [\"Alice\", \"Bob\", \"Carla\", \"Daniel\"]\n",
    "\n",
    "    for person in persons\n",
    "        println(\"Hello $person, welcome to this Tutorial!\")\n",
    "    end\n",
    "    \n",
    "    println()\n",
    "    languages = Dict(\"Alice\" => \"Python\", \"Bob\" => \"Fortran\", \"Carla\" => \"C++\", \"Daniel\" => \"C\")\n",
    "    \n",
    "    # don't forget () in (key, value)\n",
    "    println(\"Keys and Values:\")\n",
    "    for (person, language) in languages\n",
    "        println(\"  $person uses $language\")\n",
    "    end\n",
    "    println()\n",
    "    \n",
    "    println(\"Keys:\")\n",
    "    for key in keys(languages)\n",
    "        println(\"  $key\")\n",
    "    end\n",
    "    \n",
    "    return\n",
    "end\n",
    "\n",
    "forlist()"
   ]
  },
  {
   "cell_type": "markdown",
   "metadata": {},
   "source": [
    "## enumerate \n",
    "\n",
    "`enumerate` is a function which comes in handy when we need to iterate on an array (or similar) and we need to keep track of the number of iterations we have already performed.\n",
    "\n",
    "enumerate will return an iterator (which is something like an array which can be iterated in for loops). It will produce couples of the form `(i, x[i]).`"
   ]
  },
  {
   "cell_type": "code",
   "execution_count": null,
   "metadata": {},
   "outputs": [],
   "source": [
    "function enumerateFun()\n",
    "    println(\"enumerate array\")\n",
    "    x = [\"a\",\"b\",\"c\"]\n",
    "    for couple in enumerate(x)\n",
    "        println(couple)\n",
    "    end\n",
    "    println(\"\")\n",
    "    \n",
    "    languages = Dict(\"Alice\" => \"Python\", \"Bob\" => \"Fortran\", \"Carla\" => \"C++\", \"Daniel\" => \"C\")\n",
    "    \n",
    "    println(\"enumerate dictionary\")\n",
    "    for value in enumerate(languages)\n",
    "        print(value)\n",
    "        println(\" i=\", value[1], \" key=\", value[2].first, \" value=\", value[2].second )\n",
    "    end\n",
    "    \n",
    "    return\n",
    "end\n",
    "\n",
    "enumerateFun()"
   ]
  },
  {
   "cell_type": "markdown",
   "metadata": {},
   "source": [
    "## break\n",
    "\n",
    "In the case we want to forcefully interrupt a `for` loop we can use the `break` statement, for example:"
   ]
  },
  {
   "cell_type": "code",
   "execution_count": null,
   "metadata": {},
   "outputs": [],
   "source": [
    "for i in 1:100\n",
    "    if i>10\n",
    "        break\n",
    "    else\n",
    "        println(i^2)\n",
    "    end\n",
    "end"
   ]
  },
  {
   "cell_type": "markdown",
   "metadata": {},
   "source": [
    "Here we check `if i>10`, in that case we break the loop and finish the iteration, else we print `i^2`.\n",
    "\n",
    "## continue\n",
    "\n",
    "This is the opposite of `break`, `continue` will forcefully skip the current iteration and move to the next cycle:"
   ]
  },
  {
   "cell_type": "code",
   "execution_count": null,
   "metadata": {},
   "outputs": [],
   "source": [
    "for i in 1:10\n",
    "    if i % 3 == 0\n",
    "        continue\n",
    "    else\n",
    "        println(i)\n",
    "    end\n",
    "end"
   ]
  },
  {
   "cell_type": "markdown",
   "metadata": {},
   "source": [
    "This loop prints all the numbers from 1 to 10 except the multiples of 3.\n",
    "\n",
    "## while loops\n",
    "\n",
    "When a loop needs to continue until a certain condition is met, a while loop is the preferable choice:"
   ]
  },
  {
   "cell_type": "code",
   "execution_count": null,
   "metadata": {},
   "outputs": [],
   "source": [
    "function whileFun()\n",
    "    i=0\n",
    "    while(i<5)\n",
    "        println(i)\n",
    "        i += 1\n",
    "    end\n",
    "end\n",
    "\n",
    "whileFun()"
   ]
  },
  {
   "cell_type": "markdown",
   "metadata": {},
   "source": [
    "## NOTE: no switch\n",
    "\n",
    "If you need an actual pattern-matching construct, the best I've seen is from [MLStyle](https://thautwarm.github.io/MLStyle.jl/latest/syntax/pattern.html), which has a lot of other intersting things too."
   ]
  },
  {
   "cell_type": "markdown",
   "metadata": {},
   "source": [
    "## Conclusion\n",
    "\n",
    "In this lesson we have learned how to let a program take “decisions” using `if ... elseif ... else` blocks, how to perform loops using for and while and how to have control on such loops using `break` and `continue`. We have then given an example of how enumerate can be used to help the process of filling an array.\n",
    "\n",
    "**NOTE:** Julia does not have support for `switch` statements\n",
    "**NOTE:** use the length function to get array length for ranges\n",
    "\n",
    "\n",
    "## Questions\n",
    "\n",
    "1. What function is used to get the \"length\" of a data structure?\n",
    "2. Can you iterate through dictionaries using enumerate?\n",
    "3. Does Julia support `switch` statements?"
   ]
  },
  {
   "cell_type": "code",
   "execution_count": null,
   "metadata": {},
   "outputs": [],
   "source": []
  }
 ],
 "metadata": {
  "kernelspec": {
   "display_name": "Julia 1.11.5",
   "language": "julia",
   "name": "julia-1.11"
  },
  "language_info": {
   "file_extension": ".jl",
   "mimetype": "application/julia",
   "name": "julia",
   "version": "1.11.5"
  }
 },
 "nbformat": 4,
 "nbformat_minor": 4
}
